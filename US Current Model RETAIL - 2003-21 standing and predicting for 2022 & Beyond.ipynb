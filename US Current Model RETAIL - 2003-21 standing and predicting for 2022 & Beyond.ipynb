{
 "cells": [
  {
   "cell_type": "code",
   "execution_count": 1,
   "metadata": {
    "ExecuteTime": {
     "end_time": "2022-08-10T09:05:37.400030Z",
     "start_time": "2022-08-10T09:05:37.368666Z"
    }
   },
   "outputs": [],
   "source": [
    "import numpy as np\n",
    "import csv\n",
    "import decimal\n",
    "import math\n",
    "import os\n",
    "import re\n",
    "import time\n",
    "import random\n",
    "from pyspark.sql.functions import udf\n",
    "from pyspark.sql.functions import isnan, when, count, col, to_date, row_number\n",
    "import pyspark.sql.functions\n",
    "from pyspark.sql.window import Window\n",
    "from pyspark.sql.types import DoubleType\n",
    "from pyspark.sql.types import StringType\n",
    "from pyspark.sql.types import IntegerType\n",
    "from pyspark.sql.types import LongType\n",
    "from pyspark.sql.types import DateType\n",
    "from pyspark.sql import HiveContext\n",
    "from pyspark.storagelevel import StorageLevel"
   ]
  },
  {
   "cell_type": "code",
   "execution_count": 2,
   "metadata": {
    "ExecuteTime": {
     "end_time": "2022-08-10T09:05:40.142145Z",
     "start_time": "2022-08-10T09:05:40.054081Z"
    }
   },
   "outputs": [],
   "source": [
    "from pyspark.sql.types import *\n",
    "\n",
    "from pyspark_llap.sql import HiveWarehouseBuilder\n",
    "from pyspark_llap.sql.session import CreateTableBuilder, HiveWarehouseSessionImpl\n",
    "hive = HiveWarehouseBuilder.session(spark).build()"
   ]
  },
  {
   "cell_type": "code",
   "execution_count": 3,
   "metadata": {
    "ExecuteTime": {
     "end_time": "2022-08-10T09:05:40.761543Z",
     "start_time": "2022-08-10T09:05:40.713076Z"
    }
   },
   "outputs": [
    {
     "data": {
      "text/plain": [
       "[('spark.eventLog.enabled', 'true'),\n",
       " ('spark.yarn.historyServer.address', 'http://hpchdp2i3.hpc.ford.com:18081'),\n",
       " ('spark.yarn.appMasterEnv.MKL_NUM_THREADS', '1'),\n",
       " ('spark.repl.local.jars',\n",
       "  'file:///s/hadoop/user/jars/hive-warehouse-connector-assembly-hpchdp2.jar,file:///u/mpartha9/scoring-code-spark-api_2.4.3-0.0.22.jar,file:///u/mpartha9/64132f079417a607d5972c42-64119c37f60675e3f6972a3d.jar'),\n",
       " ('spark.yarn.am.extraLibraryPath',\n",
       "  '/opt/cloudera/parcels/CDH-7.1.7-1.cdh7.1.7.p1000.24102687/lib/hadoop/lib/native'),\n",
       " ('spark.driver.port', '43720'),\n",
       " ('spark.yarn.dist.pyFiles',\n",
       "  'file:///opt/cloudera/parcels/CDH/lib/hive_warehouse_connector/pyspark_hwc-1.0.0.7.1.7.1000-141.zip'),\n",
       " ('spark.sql.hive.hiveserver2.jdbc.url.principal', 'hive/_HOST@HPC.FORD.COM'),\n",
       " ('spark.shuffle.io.serverThreads', '128'),\n",
       " ('spark.org.apache.hadoop.yarn.server.webproxy.amfilter.AmIpFilter.param.RM_HA_URLS',\n",
       "  'hpchdp2.hpc.ford.com:8088,hpchdp2i4.hpc.ford.com:8088'),\n",
       " ('spark.serializer', 'org.apache.spark.serializer.KryoSerializer'),\n",
       " ('spark.driver.host', 'hpchdp2e.hpc.ford.com'),\n",
       " ('spark.ui.filters',\n",
       "  'org.apache.hadoop.yarn.server.webproxy.amfilter.AmIpFilter,'),\n",
       " ('spark.datasource.hive.warehouse.read.mode', 'staging_output'),\n",
       " ('spark.shuffle.file.buffer', '1m'),\n",
       " ('spark.yarn.jars',\n",
       "  'local:/opt/cloudera/parcels/CDH-7.1.7-1.cdh7.1.7.p1000.24102687/lib/spark/jars/*,local:/opt/cloudera/parcels/CDH-7.1.7-1.cdh7.1.7.p1000.24102687/lib/spark/hive/*'),\n",
       " ('spark.datasource.hive.warehouse.load.staging.dir', '/tmp/staging/hwc'),\n",
       " ('spark.yarn.dist.files', ''),\n",
       " ('spark.sql.autoBroadcastJoinThreshold', '26214400'),\n",
       " ('spark.app.id', 'application_1678624282671_2622218'),\n",
       " ('spark.sql.sources.commitProtocolClass',\n",
       "  'org.apache.spark.internal.io.cloud.PathOutputCommitProtocol'),\n",
       " ('spark.yarn.secondary.jars',\n",
       "  'hive-warehouse-connector-assembly-hpchdp2.jar,scoring-code-spark-api_2.4.3-0.0.22.jar,64132f079417a607d5972c42-64119c37f60675e3f6972a3d.jar'),\n",
       " ('spark.network.crypto.enabled', 'false'),\n",
       " ('spark.eventLog.dir', 'hdfs://hdp2cluster/spark2-history/'),\n",
       " ('spark.lineage.enabled', 'false'),\n",
       " ('spark.executorEnv.MKL_NUM_THREADS', '1'),\n",
       " ('spark.ui.enabled', 'true'),\n",
       " ('spark.sql.hive.hiveserver2.jdbc.url',\n",
       "  'jdbc:hive2://hpchdp2-zk-1.hpc.ford.com:2181,hpchdp2-zk-2.hpc.ford.com:2181,hpchdp2-zk-3.hpc.ford.com:2181/;serviceDiscoveryMode=zooKeeper;zooKeeperNamespace=hiveserver2-ranger'),\n",
       " ('spark.executor.id', 'driver'),\n",
       " ('spark.dynamicAllocation.schedulerBacklogTimeout', '1'),\n",
       " ('spark.app.name', 'PySparkShell'),\n",
       " ('spark.rpc.message.maxSize', '1024'),\n",
       " ('spark.yarn.config.gatewayPath', '/opt/cloudera/parcels'),\n",
       " ('spark.executor.memory', '32g'),\n",
       " ('spark.history.fs.logDirectory', 'hdfs:///spark2-history/'),\n",
       " ('spark.sql.hive.conf.list', 'hive.support.quoted.identifiers=none'),\n",
       " ('spark.sql.catalogImplementation', 'hive'),\n",
       " ('spark.dynamicAllocation.maxExecutors', '25'),\n",
       " ('spark.driver.log.persistToDfs.enabled', 'true'),\n",
       " ('spark.org.apache.hadoop.yarn.server.webproxy.amfilter.AmIpFilter.param.PROXY_HOSTS',\n",
       "  'hpchdp2.hpc.ford.com,hpchdp2i4.hpc.ford.com'),\n",
       " ('spark.yarn.config.replacementPath', '{{HADOOP_COMMON_HOME}}/../../..'),\n",
       " ('spark.org.apache.hadoop.yarn.server.webproxy.amfilter.AmIpFilter.param.PROXY_URI_BASES',\n",
       "  'http://hpchdp2.hpc.ford.com:8088/proxy/application_1678624282671_2622218,http://hpchdp2i4.hpc.ford.com:8088/proxy/application_1678624282671_2622218'),\n",
       " ('spark.executorEnv.OPENBLAS_NUM_THREADS', '1'),\n",
       " ('spark.acls.enable', 'true'),\n",
       " ('spark.executor.extraLibraryPath',\n",
       "  '/opt/cloudera/parcels/CDH-7.1.7-1.cdh7.1.7.p1000.24102687/lib/hadoop/lib/native'),\n",
       " ('spark.dynamicAllocation.initialExecutors', '0'),\n",
       " ('spark.sql.warehouse.dir', '/apps/spark/warehouse'),\n",
       " ('spark.driver.memory', '32g'),\n",
       " ('spark.driver.extraLibraryPath',\n",
       "  '/opt/cloudera/parcels/CDH-7.1.7-1.cdh7.1.7.p1000.24102687/lib/hadoop/lib/native'),\n",
       " ('spark.submit.pyFiles',\n",
       "  '/opt/cloudera/parcels/CDH/lib/hive_warehouse_connector/pyspark_hwc-1.0.0.7.1.7.1000-141.zip'),\n",
       " ('spark.ui.killEnabled', 'true'),\n",
       " ('spark.datasource.hive.warehouse.batch.datareader.columns.limit', '100'),\n",
       " ('spark.dynamicAllocation.executorIdleTimeout', '60'),\n",
       " ('spark.io.encryption.enabled', 'false'),\n",
       " ('spark.hadoop.mapreduce.fileoutputcommitter.algorithm.version', '1'),\n",
       " ('spark.sql.statistics.fallBackToHdfs', 'true'),\n",
       " ('spark.authenticate', 'false'),\n",
       " ('spark.serializer.objectStreamReset', '100'),\n",
       " ('spark.hadoop.hive.zookeeper.quorum',\n",
       "  'hpchdp2-zk-1.hpc.ford.com:2181,hpchdp2-zk-2.hpc.ford.com:2181,hpchdp2-zk-3.hpc.ford.com:2181'),\n",
       " ('spark.history.ui.acls.enable', 'true'),\n",
       " ('spark.submit.deployMode', 'client'),\n",
       " ('spark.executor.cores', '8'),\n",
       " ('spark.hadoop.metastore.catalog.default', 'hive'),\n",
       " ('spark.executorEnv.PYTHONPATH',\n",
       "  '/opt/cloudera/parcels/CDH-7.1.7-1.cdh7.1.7.p1000.24102687/lib/spark/python/lib/py4j-0.10.7-src.zip:/opt/cloudera/parcels/CDH-7.1.7-1.cdh7.1.7.p1000.24102687/lib/spark/python/:<CPS>/opt/cloudera/parcels/CDH-7.1.7-1.cdh7.1.7.p1000.24102687/lib/spark/python/lib/py4j-0.10.7-src.zip<CPS>/opt/cloudera/parcels/CDH-7.1.7-1.cdh7.1.7.p1000.24102687/lib/spark/python/lib/pyspark.zip<CPS>{{PWD}}/pyspark_hwc-1.0.0.7.1.7.1000-141.zip'),\n",
       " ('spark.shuffle.service.enabled', 'true'),\n",
       " ('spark.yarn.historyServer.allowTracking', 'true'),\n",
       " ('spark.kryoserializer.buffer.max', '1024m'),\n",
       " ('spark.yarn.appMasterEnv.OPENBLAS_NUM_THREADS', '1'),\n",
       " ('spark.shuffle.service.port', '7337'),\n",
       " ('spark.sql.parquet.output.committer.class',\n",
       "  'org.apache.spark.internal.io.cloud.BindingParquetOutputCommitter'),\n",
       " ('spark.sql.broadcastTimeout', '600'),\n",
       " ('spark.master', 'yarn'),\n",
       " ('spark.io.compression.lz4.blockSize', '128kb'),\n",
       " ('spark.driver.appUIAddress', 'http://hpchdp2e.hpc.ford.com:4066'),\n",
       " ('spark.port.maxRetries', '250'),\n",
       " ('spark.shuffle.io.backLog', '8192'),\n",
       " ('spark.rdd.compress', 'True'),\n",
       " ('spark.security.credentials.hiveserver2.enabled', 'true'),\n",
       " ('spark.dynamicAllocation.minExecutors', '0'),\n",
       " ('spark.unsafe.sorter.spill.reader.buffer.size', '1m'),\n",
       " ('spark.dynamicAllocation.enabled', 'true'),\n",
       " ('spark.shuffle.unsafe.file.output.buffer', '5m'),\n",
       " ('spark.hadoop.fs.s3a.committer.name', 'directory'),\n",
       " ('spark.yarn.dist.jars',\n",
       "  'file:///s/hadoop/user/jars/hive-warehouse-connector-assembly-hpchdp2.jar,file:///u/mpartha9/scoring-code-spark-api_2.4.3-0.0.22.jar,file:///u/mpartha9/64132f079417a607d5972c42-64119c37f60675e3f6972a3d.jar'),\n",
       " ('spark.dynamicAllocation.cachedExecutorIdleTimeout', '3600'),\n",
       " ('spark.yarn.isPython', 'true'),\n",
       " ('spark.ui.showConsoleProgress', 'true'),\n",
       " ('spark.driver.log.dfsDir', '/user/spark/driverLogs')]"
      ]
     },
     "execution_count": 3,
     "metadata": {},
     "output_type": "execute_result"
    }
   ],
   "source": [
    "from pyspark.conf import SparkConf\n",
    "from pyspark.sql import SparkSession\n",
    "spark.sparkContext._conf.getAll()"
   ]
  },
  {
   "cell_type": "code",
   "execution_count": 4,
   "metadata": {
    "ExecuteTime": {
     "end_time": "2022-08-10T09:05:41.547677Z",
     "start_time": "2022-08-10T09:05:41.540520Z"
    }
   },
   "outputs": [],
   "source": [
    "hive_context = HiveContext(spark)\n",
    "hive_context.setConf(\"hive.exec.dynamic.partition\", \"true\")\n",
    "hive_context.setConf(\"hive.execution.engine\",\"spark\")\n",
    "hive_context.setConf(\"hive.prewarm.enabled\",\"true\")\n",
    "hive_context.setConf(\"hive.vectorized.execution.enabled\",\"true\")\n",
    "hive_context.setConf(\"hive.exec.dynamic.partition.mode\", \"nonstrict\")"
   ]
  },
  {
   "cell_type": "markdown",
   "metadata": {},
   "source": [
    "## VOMART Data Pull between 2003 to 2021 for FORD USA"
   ]
  },
  {
   "cell_type": "raw",
   "metadata": {},
   "source": [
    "Query1=\"\"\"select vin, \n",
    "consumer_id, \n",
    "vehicle_ownership_cycle_num,\n",
    "vehicle_model, \n",
    "vehicle_model_year, \n",
    "acquisition_date, \n",
    "acquisition_year,\n",
    "vehicle_age, \n",
    "fmcc_lease_purchase_ind, \n",
    "platform, \n",
    "lifestage_value,\n",
    "consumer_type_code,\n",
    "contribution_margin\n",
    "from dsc60180_ici_sde_tz_db.vomart_history\n",
    "where to_date(last_update_timestamp) = '2022-01-02'\n",
    "and acquisition_date >= '2003-01-01'\n",
    "and acquisition_date <= '2021-12-31'\n",
    "and country_code  = 'USA' \n",
    "and vehicle_make = 'FORD'\n",
    "and consumer_id is not NULL\n",
    "and vin is not NULL\n",
    "and household_demogrphics_key is not NULL\n",
    "\"\"\"\n",
    "mpartha9_NA_data_1_external_p1=hive.executeQuery(Query1)"
   ]
  },
  {
   "cell_type": "code",
   "execution_count": 7,
   "metadata": {},
   "outputs": [],
   "source": [
    "#Save the original extract as parquet file\n",
    "#mpartha9_NA_data_1_external_p1.write.parquet(\"mpartha9_vomart_2003_21_current_model.parquet\")"
   ]
  },
  {
   "cell_type": "code",
   "execution_count": 5,
   "metadata": {},
   "outputs": [],
   "source": [
    "#Read the parquet file\n",
    "mpartha9_NA_data_1_external_p1=spark.read.parquet('mpartha9_vomart_2003_21_current_model.parquet')"
   ]
  },
  {
   "cell_type": "code",
   "execution_count": 6,
   "metadata": {},
   "outputs": [],
   "source": [
    "mpartha9_NA_data_1_external_p1.createOrReplaceTempView(\"mpartha9_NA_data_1_external_p1\")"
   ]
  },
  {
   "cell_type": "code",
   "execution_count": 7,
   "metadata": {},
   "outputs": [
    {
     "name": "stdout",
     "output_type": "stream",
     "text": [
      "66271637 41125090\n"
     ]
    }
   ],
   "source": [
    "print(mpartha9_NA_data_1_external_p1.count(), mpartha9_NA_data_1_external_p1.select(\"consumer_id\").distinct().count())"
   ]
  },
  {
   "cell_type": "code",
   "execution_count": 8,
   "metadata": {
    "scrolled": true
   },
   "outputs": [
    {
     "name": "stdout",
     "output_type": "stream",
     "text": [
      "root\n",
      " |-- vin: string (nullable = true)\n",
      " |-- consumer_id: decimal(11,0) (nullable = true)\n",
      " |-- vehicle_ownership_cycle_num: short (nullable = true)\n",
      " |-- vehicle_model: string (nullable = true)\n",
      " |-- vehicle_model_year: string (nullable = true)\n",
      " |-- acquisition_date: date (nullable = true)\n",
      " |-- acquisition_year: short (nullable = true)\n",
      " |-- vehicle_age: short (nullable = true)\n",
      " |-- fmcc_lease_purchase_ind: byte (nullable = true)\n",
      " |-- platform: string (nullable = true)\n",
      " |-- lifestage_value: string (nullable = true)\n",
      " |-- consumer_type_code: string (nullable = true)\n",
      " |-- contribution_margin: decimal(15,2) (nullable = true)\n",
      "\n"
     ]
    }
   ],
   "source": [
    "mpartha9_NA_data_1_external_p1.printSchema()"
   ]
  },
  {
   "cell_type": "markdown",
   "metadata": {},
   "source": [
    "Query_retail_only=\"\"\"select *\n",
    "from mpartha9_NA_data_1_external_p1\n",
    "where consumer_type_code='I'\n",
    "\"\"\"\n",
    "mpartha9_NA_data_1_external_p1_retail=spark.sql(Query_retail_only)\n",
    "mpartha9_NA_data_1_external_p1_retail.createOrReplaceTempView(\"mpartha9_NA_data_1_external_p1_retail\")"
   ]
  },
  {
   "cell_type": "raw",
   "metadata": {},
   "source": [
    "#print(mpartha9_NA_data_1_external_p1_retail.count(), mpartha9_NA_data_1_external_p1_retail.select(\"consumer_id\").distinct().count())\n",
    "#54091607 38169329"
   ]
  },
  {
   "cell_type": "markdown",
   "metadata": {},
   "source": [
    "### CURRENT MODEL :  All NON-ZERO CM"
   ]
  },
  {
   "cell_type": "code",
   "execution_count": 9,
   "metadata": {},
   "outputs": [],
   "source": [
    "#All NON-ZERO data records\n",
    "Query2=\"\"\"select consumer_id, avg(contribution_margin) as avg_cm \n",
    "from mpartha9_NA_data_1_external_p1\n",
    "where contribution_margin !=0\n",
    "and contribution_margin is NOT NULL\n",
    "and consumer_type_code='I'\n",
    "group by consumer_id\n",
    "\"\"\"\n",
    "mpartha9_NA_combo_all_nonzero_records_p2=spark.sql(Query2)\n",
    "mpartha9_NA_combo_all_nonzero_records_p2.createOrReplaceTempView(\"mpartha9_NA_combo_all_nonzero_records_p2\")"
   ]
  },
  {
   "cell_type": "code",
   "execution_count": 10,
   "metadata": {},
   "outputs": [
    {
     "name": "stdout",
     "output_type": "stream",
     "text": [
      "15086551 15086551\n"
     ]
    }
   ],
   "source": [
    "print(mpartha9_NA_combo_all_nonzero_records_p2.count(), mpartha9_NA_combo_all_nonzero_records_p2.select(\"consumer_id\").distinct().count())"
   ]
  },
  {
   "cell_type": "code",
   "execution_count": 11,
   "metadata": {
    "scrolled": false
   },
   "outputs": [
    {
     "name": "stdout",
     "output_type": "stream",
     "text": [
      "+-----------+-----------+\n",
      "|consumer_id|     avg_cm|\n",
      "+-----------+-----------+\n",
      "|   18730602|5588.395000|\n",
      "|  120674850|8706.660000|\n",
      "+-----------+-----------+\n",
      "only showing top 2 rows\n",
      "\n"
     ]
    }
   ],
   "source": [
    "mpartha9_NA_combo_all_nonzero_records_p2.show(2)"
   ]
  },
  {
   "cell_type": "markdown",
   "metadata": {},
   "source": [
    "### CURRENT MODEL :  Only zero CM"
   ]
  },
  {
   "cell_type": "code",
   "execution_count": 12,
   "metadata": {},
   "outputs": [],
   "source": [
    "#only zero CM  records\n",
    "Query3=\"\"\"select avg(case when acquisition_date>='2021-01-01' and acquisition_date<='2021-12-31'\n",
    "then contribution_margin else NULL end) as cm_365 \n",
    "from mpartha9_NA_data_1_external_p1\n",
    "where contribution_margin !=0\n",
    "and consumer_type_code='I' \n",
    "\"\"\"\n",
    "mpartha9_NA_combo_all_zero_records_p3=spark.sql(Query3)\n",
    "mpartha9_NA_combo_all_zero_records_p3.createOrReplaceTempView(\"mpartha9_NA_combo_all_zero_records_p3\")"
   ]
  },
  {
   "cell_type": "code",
   "execution_count": 13,
   "metadata": {},
   "outputs": [
    {
     "name": "stdout",
     "output_type": "stream",
     "text": [
      "1\n"
     ]
    }
   ],
   "source": [
    "print(mpartha9_NA_combo_all_zero_records_p3.count())"
   ]
  },
  {
   "cell_type": "code",
   "execution_count": 14,
   "metadata": {},
   "outputs": [
    {
     "name": "stdout",
     "output_type": "stream",
     "text": [
      "+------------+\n",
      "|      cm_365|\n",
      "+------------+\n",
      "|13591.790626|\n",
      "+------------+\n",
      "\n"
     ]
    }
   ],
   "source": [
    "mpartha9_NA_combo_all_zero_records_p3.show(2)"
   ]
  },
  {
   "cell_type": "markdown",
   "metadata": {},
   "source": [
    "### Distinct Customers"
   ]
  },
  {
   "cell_type": "code",
   "execution_count": 15,
   "metadata": {},
   "outputs": [],
   "source": [
    "Query4=\"\"\"select distinct consumer_id\n",
    "from mpartha9_NA_data_1_external_p1\n",
    "where consumer_type_code='I'\n",
    "\"\"\"\n",
    "mpartha9_NA_distinct_records_p4=spark.sql(Query4)\n",
    "mpartha9_NA_distinct_records_p4.createOrReplaceTempView(\"mpartha9_NA_distinct_records_p4\")"
   ]
  },
  {
   "cell_type": "code",
   "execution_count": 16,
   "metadata": {},
   "outputs": [
    {
     "name": "stdout",
     "output_type": "stream",
     "text": [
      "+-----------+\n",
      "|consumer_id|\n",
      "+-----------+\n",
      "|   70511805|\n",
      "|  113921504|\n",
      "+-----------+\n",
      "only showing top 2 rows\n",
      "\n"
     ]
    }
   ],
   "source": [
    "mpartha9_NA_distinct_records_p4.show(2)"
   ]
  },
  {
   "cell_type": "code",
   "execution_count": 17,
   "metadata": {},
   "outputs": [
    {
     "data": {
      "text/plain": [
       "38169329"
      ]
     },
     "execution_count": 17,
     "metadata": {},
     "output_type": "execute_result"
    }
   ],
   "source": [
    "mpartha9_NA_distinct_records_p4.count()"
   ]
  },
  {
   "cell_type": "markdown",
   "metadata": {},
   "source": [
    "### Join both tables"
   ]
  },
  {
   "cell_type": "code",
   "execution_count": 18,
   "metadata": {},
   "outputs": [],
   "source": [
    "Query5=\"\"\"select a.consumer_id, b.avg_cm\n",
    "from mpartha9_NA_distinct_records_p4 a\n",
    "left join mpartha9_NA_combo_all_nonzero_records_p2 b\n",
    "on a.consumer_id = b.consumer_id\n",
    "\"\"\"\n",
    "mpartha9_NA_vomart_2003_21_with_avg_cm=spark.sql(Query5)\n",
    "mpartha9_NA_vomart_2003_21_with_avg_cm.createOrReplaceTempView(\"mpartha9_NA_vomart_2003_21_with_avg_cm\")"
   ]
  },
  {
   "cell_type": "code",
   "execution_count": 19,
   "metadata": {},
   "outputs": [
    {
     "name": "stdout",
     "output_type": "stream",
     "text": [
      "38169329 38169329\n"
     ]
    }
   ],
   "source": [
    "print(mpartha9_NA_vomart_2003_21_with_avg_cm.count(), mpartha9_NA_vomart_2003_21_with_avg_cm.select(\"consumer_id\").distinct().count())"
   ]
  },
  {
   "cell_type": "code",
   "execution_count": 20,
   "metadata": {},
   "outputs": [
    {
     "name": "stdout",
     "output_type": "stream",
     "text": [
      "+-----------+-----------+\n",
      "|consumer_id|     avg_cm|\n",
      "+-----------+-----------+\n",
      "|    3402087|1386.070000|\n",
      "|    3807907|7085.770000|\n",
      "+-----------+-----------+\n",
      "only showing top 2 rows\n",
      "\n"
     ]
    }
   ],
   "source": [
    "mpartha9_NA_vomart_2003_21_with_avg_cm.show(2)"
   ]
  },
  {
   "cell_type": "code",
   "execution_count": 21,
   "metadata": {},
   "outputs": [
    {
     "data": {
      "text/plain": [
       "23082778"
      ]
     },
     "execution_count": 21,
     "metadata": {},
     "output_type": "execute_result"
    }
   ],
   "source": [
    "mpartha9_NA_vomart_2003_21_with_avg_cm.where(col('avg_cm').isNull()).count()"
   ]
  },
  {
   "cell_type": "code",
   "execution_count": 22,
   "metadata": {},
   "outputs": [
    {
     "data": {
      "text/plain": [
       "0"
      ]
     },
     "execution_count": 22,
     "metadata": {},
     "output_type": "execute_result"
    }
   ],
   "source": [
    "mpartha9_NA_vomart_2003_21_with_avg_cm.where(col('avg_cm')==0).count()"
   ]
  },
  {
   "cell_type": "markdown",
   "metadata": {},
   "source": [
    "### Impute fixed single value for NULL CMs"
   ]
  },
  {
   "cell_type": "code",
   "execution_count": 23,
   "metadata": {},
   "outputs": [],
   "source": [
    "Query6=\"\"\"select consumer_id,\n",
    "case when avg_cm is NULL then 13591.790626 else avg_cm end as avg_cm_imputed\n",
    "from mpartha9_NA_vomart_2003_21_with_avg_cm\n",
    "\"\"\"\n",
    "mpartha9_NA_vomart_2003_21_with_avg_cm_imputed=spark.sql(Query6)\n",
    "mpartha9_NA_vomart_2003_21_with_avg_cm_imputed.createOrReplaceTempView(\"mpartha9_NA_vomart_2003_21_with_avg_cm_imputed\")"
   ]
  },
  {
   "cell_type": "code",
   "execution_count": 24,
   "metadata": {},
   "outputs": [
    {
     "name": "stdout",
     "output_type": "stream",
     "text": [
      "38169329 38169329\n"
     ]
    }
   ],
   "source": [
    "print(mpartha9_NA_vomart_2003_21_with_avg_cm_imputed.count(), mpartha9_NA_vomart_2003_21_with_avg_cm_imputed.select(\"consumer_id\").distinct().count())"
   ]
  },
  {
   "cell_type": "code",
   "execution_count": 25,
   "metadata": {},
   "outputs": [
    {
     "name": "stdout",
     "output_type": "stream",
     "text": [
      "+-----------+--------------+\n",
      "|consumer_id|avg_cm_imputed|\n",
      "+-----------+--------------+\n",
      "|    3402087|   1386.070000|\n",
      "|    3807907|   7085.770000|\n",
      "+-----------+--------------+\n",
      "only showing top 2 rows\n",
      "\n"
     ]
    }
   ],
   "source": [
    "mpartha9_NA_vomart_2003_21_with_avg_cm_imputed.show(2)"
   ]
  },
  {
   "cell_type": "code",
   "execution_count": 26,
   "metadata": {},
   "outputs": [
    {
     "data": {
      "text/plain": [
       "0"
      ]
     },
     "execution_count": 26,
     "metadata": {},
     "output_type": "execute_result"
    }
   ],
   "source": [
    "mpartha9_NA_vomart_2003_21_with_avg_cm_imputed.where(col('avg_cm_imputed').isNull()).count()"
   ]
  },
  {
   "cell_type": "code",
   "execution_count": 27,
   "metadata": {},
   "outputs": [
    {
     "data": {
      "text/plain": [
       "0"
      ]
     },
     "execution_count": 27,
     "metadata": {},
     "output_type": "execute_result"
    }
   ],
   "source": [
    "mpartha9_NA_vomart_2003_21_with_avg_cm_imputed.where(col('avg_cm_imputed')==0).count()"
   ]
  },
  {
   "cell_type": "markdown",
   "metadata": {},
   "source": [
    "### Customers who bought a new vehicle in 2022 or later from Ford USA"
   ]
  },
  {
   "cell_type": "markdown",
   "metadata": {},
   "source": [
    "Query_2022_beyond=\"\"\"select vin, \n",
    "consumer_id, \n",
    "vehicle_ownership_cycle_num,\n",
    "vehicle_model, \n",
    "vehicle_model_year, \n",
    "acquisition_date, \n",
    "acquisition_year,\n",
    "vehicle_age, \n",
    "fmcc_lease_purchase_ind, \n",
    "platform, \n",
    "lifestage_value,\n",
    "consumer_type_code,\n",
    "contribution_margin\n",
    "from dsc60180_ici_sde_tz_db.vomart\n",
    "where acquisition_date >= '2022-01-01'\n",
    "and country_code  = 'USA' \n",
    "and vehicle_make = 'FORD'\n",
    "and consumer_id is not NULL\n",
    "and vin is not NULL\n",
    "and contribution_margin is NOT NULL\n",
    "and contribution_margin != 0\n",
    "\"\"\"\n",
    "mpartha9_vomart_2022_beyond=hive.executeQuery(Query_2022_beyond)"
   ]
  },
  {
   "cell_type": "code",
   "execution_count": 63,
   "metadata": {},
   "outputs": [],
   "source": [
    "#Save the original extract as parquet file\n",
    "#mpartha9_vomart_2022_beyond.write.parquet(\"mpartha9_vomart_2022_beyond.parquet\")"
   ]
  },
  {
   "cell_type": "code",
   "execution_count": 28,
   "metadata": {},
   "outputs": [],
   "source": [
    "#Read the parquet file\n",
    "mpartha9_vomart_2022_beyond=spark.read.parquet('mpartha9_vomart_2022_beyond.parquet')"
   ]
  },
  {
   "cell_type": "code",
   "execution_count": 29,
   "metadata": {},
   "outputs": [],
   "source": [
    "mpartha9_vomart_2022_beyond.createOrReplaceTempView(\"mpartha9_vomart_2022_beyond\")"
   ]
  },
  {
   "cell_type": "code",
   "execution_count": 30,
   "metadata": {},
   "outputs": [
    {
     "name": "stdout",
     "output_type": "stream",
     "text": [
      "2061970 1385035\n"
     ]
    }
   ],
   "source": [
    "print(mpartha9_vomart_2022_beyond.count(), mpartha9_vomart_2022_beyond.select(\"consumer_id\").distinct().count())"
   ]
  },
  {
   "cell_type": "markdown",
   "metadata": {},
   "source": [
    "### Only Retail"
   ]
  },
  {
   "cell_type": "code",
   "execution_count": 31,
   "metadata": {},
   "outputs": [],
   "source": [
    "Query_retail=\"\"\"select *\n",
    "from mpartha9_vomart_2022_beyond\n",
    "where consumer_type_code='I'\n",
    "\"\"\"\n",
    "mpartha9_vomart_2022_beyond_retail=spark.sql(Query_retail)\n",
    "mpartha9_vomart_2022_beyond_retail.createOrReplaceTempView(\"mpartha9_vomart_2022_beyond_retail\")"
   ]
  },
  {
   "cell_type": "code",
   "execution_count": 32,
   "metadata": {},
   "outputs": [
    {
     "name": "stdout",
     "output_type": "stream",
     "text": [
      "1266000 1196833\n"
     ]
    }
   ],
   "source": [
    "print(mpartha9_vomart_2022_beyond_retail.count(), mpartha9_vomart_2022_beyond_retail.select(\"consumer_id\").distinct().count())"
   ]
  },
  {
   "cell_type": "markdown",
   "metadata": {},
   "source": [
    "### Row Numbering based on Acquisition date"
   ]
  },
  {
   "cell_type": "code",
   "execution_count": 33,
   "metadata": {},
   "outputs": [],
   "source": [
    "Query_row_numbering = \"\"\"select *\n",
    "from \n",
    "(select *,\n",
    "ROW_NUMBER() OVER (PARTITION BY consumer_id ORDER BY acquisition_date) as ROW_numbering\n",
    "from mpartha9_vomart_2022_beyond_retail\n",
    ") a\n",
    "\"\"\"\n",
    "mpartha9_NA_row_numbering = spark.sql(Query_row_numbering)\n",
    "mpartha9_NA_row_numbering.createOrReplaceTempView(\"mpartha9_NA_row_numbering\")"
   ]
  },
  {
   "cell_type": "code",
   "execution_count": 34,
   "metadata": {},
   "outputs": [
    {
     "name": "stdout",
     "output_type": "stream",
     "text": [
      "1266000 1196833\n"
     ]
    }
   ],
   "source": [
    "print(mpartha9_NA_row_numbering.count(), mpartha9_NA_row_numbering.select(\"consumer_id\").distinct().count())"
   ]
  },
  {
   "cell_type": "code",
   "execution_count": 35,
   "metadata": {},
   "outputs": [
    {
     "name": "stdout",
     "output_type": "stream",
     "text": [
      "+-----------------+-----------+---------------------------+-------------+------------------+----------------+----------------+-----------+-----------------------+--------+---------------+------------------+-------------------+-------------+\n",
      "|              vin|consumer_id|vehicle_ownership_cycle_num|vehicle_model|vehicle_model_year|acquisition_date|acquisition_year|vehicle_age|fmcc_lease_purchase_ind|platform|lifestage_value|consumer_type_code|contribution_margin|ROW_numbering|\n",
      "+-----------------+-----------+---------------------------+-------------+------------------+----------------+----------------+-----------+-----------------------+--------+---------------+------------------+-------------------+-------------+\n",
      "|1FTFW1E84NFB10664|   11936403|                          1|        F-150|              2022|      2022-05-25|            2022|          1|                      0|   TRUCK|Early Ownership|                 I|           18407.93|            1|\n",
      "|1FT8W3DTXNEF02600|  100214113|                          1|        F-350|              2022|      2022-10-13|            2022|          1|                      0|   TRUCK|Early Ownership|                 I|           27408.44|            1|\n",
      "+-----------------+-----------+---------------------------+-------------+------------------+----------------+----------------+-----------+-----------------------+--------+---------------+------------------+-------------------+-------------+\n",
      "only showing top 2 rows\n",
      "\n"
     ]
    }
   ],
   "source": [
    "mpartha9_NA_row_numbering.show(2)"
   ]
  },
  {
   "cell_type": "markdown",
   "metadata": {},
   "source": [
    "### Only First Transaction in 2022 and beyond"
   ]
  },
  {
   "cell_type": "code",
   "execution_count": 36,
   "metadata": {},
   "outputs": [],
   "source": [
    "Query_only_latest_transaction = \"\"\"select consumer_id, acquisition_date, \n",
    "contribution_margin as Latest_CM\n",
    "from mpartha9_NA_row_numbering\n",
    "where ROW_numbering = 1\n",
    "\"\"\"\n",
    "mpartha9_NA_only_latest_transaction = spark.sql(Query_only_latest_transaction)\n",
    "mpartha9_NA_only_latest_transaction.createOrReplaceTempView(\"mpartha9_NA_only_latest_transaction\")"
   ]
  },
  {
   "cell_type": "code",
   "execution_count": 37,
   "metadata": {},
   "outputs": [
    {
     "name": "stdout",
     "output_type": "stream",
     "text": [
      "1196833 1196833\n"
     ]
    }
   ],
   "source": [
    "print(mpartha9_NA_only_latest_transaction.count(), mpartha9_NA_only_latest_transaction.select(\"consumer_id\").distinct().count())"
   ]
  },
  {
   "cell_type": "code",
   "execution_count": 38,
   "metadata": {},
   "outputs": [
    {
     "name": "stdout",
     "output_type": "stream",
     "text": [
      "+-----------+----------------+---------+\n",
      "|consumer_id|acquisition_date|Latest_CM|\n",
      "+-----------+----------------+---------+\n",
      "|   11936403|      2022-05-25| 18407.93|\n",
      "|  100214113|      2022-10-13| 27408.44|\n",
      "|  101523550|      2022-06-27|  3670.71|\n",
      "|  101817003|      2022-05-23| 11817.37|\n",
      "|  110802703|      2023-03-08| 18169.33|\n",
      "+-----------+----------------+---------+\n",
      "only showing top 5 rows\n",
      "\n"
     ]
    }
   ],
   "source": [
    "mpartha9_NA_only_latest_transaction.show(5)"
   ]
  },
  {
   "cell_type": "code",
   "execution_count": null,
   "metadata": {},
   "outputs": [],
   "source": []
  },
  {
   "cell_type": "markdown",
   "metadata": {},
   "source": [
    "### Match back beyond_2022 with consumer_ids before 2022"
   ]
  },
  {
   "cell_type": "code",
   "execution_count": 39,
   "metadata": {},
   "outputs": [],
   "source": [
    "Match_query = \"\"\"\n",
    "select a.consumer_id, a.avg_cm_imputed, b.Latest_CM\n",
    "from mpartha9_NA_vomart_2003_21_with_avg_cm_imputed a\n",
    "inner join mpartha9_NA_only_latest_transaction b\n",
    "on a.consumer_id = b.consumer_id\n",
    "\"\"\"\n",
    "mpartha9_NA_Match_query = spark.sql(Match_query)\n",
    "mpartha9_NA_Match_query.createOrReplaceTempView(\"mpartha9_NA_Match_query\")"
   ]
  },
  {
   "cell_type": "code",
   "execution_count": 40,
   "metadata": {},
   "outputs": [
    {
     "name": "stdout",
     "output_type": "stream",
     "text": [
      "550794 550794\n"
     ]
    }
   ],
   "source": [
    "print(mpartha9_NA_Match_query.count(), mpartha9_NA_Match_query.select(\"consumer_id\").distinct().count())"
   ]
  },
  {
   "cell_type": "code",
   "execution_count": 41,
   "metadata": {},
   "outputs": [
    {
     "name": "stdout",
     "output_type": "stream",
     "text": [
      "+-----------+--------------+---------+\n",
      "|consumer_id|avg_cm_imputed|Latest_CM|\n",
      "+-----------+--------------+---------+\n",
      "|  100214113|  14370.590000| 27408.44|\n",
      "|  101523550|   8727.925000|  3670.71|\n",
      "|  101817003|   5231.456250| 11817.37|\n",
      "|  110802703|  12221.760000| 18169.33|\n",
      "|  124304305|  16265.140000| 13561.91|\n",
      "+-----------+--------------+---------+\n",
      "only showing top 5 rows\n",
      "\n"
     ]
    }
   ],
   "source": [
    "mpartha9_NA_Match_query.show(5)"
   ]
  },
  {
   "cell_type": "code",
   "execution_count": 48,
   "metadata": {},
   "outputs": [],
   "source": [
    "mpartha9_NA_Match_query.toPandas().to_csv('/s/mpartha9/RETAIL_current_model_performance_2022_beyond.csv', index=False)"
   ]
  },
  {
   "cell_type": "code",
   "execution_count": null,
   "metadata": {},
   "outputs": [],
   "source": []
  },
  {
   "cell_type": "markdown",
   "metadata": {},
   "source": [
    "### Read CSV in pyspark"
   ]
  },
  {
   "cell_type": "code",
   "execution_count": 42,
   "metadata": {
    "scrolled": true
   },
   "outputs": [],
   "source": [
    "df = sqlContext.read.csv(\"file:///s/mpartha9/RETAIL_NEW_developed_model_performance_2022_beyond.csv\", header=True)"
   ]
  },
  {
   "cell_type": "code",
   "execution_count": 43,
   "metadata": {
    "scrolled": true
   },
   "outputs": [
    {
     "name": "stdout",
     "output_type": "stream",
     "text": [
      "549396 549396\n"
     ]
    }
   ],
   "source": [
    "print(df.count(), df.select(\"consumer_id\").distinct().count())"
   ]
  },
  {
   "cell_type": "code",
   "execution_count": 44,
   "metadata": {},
   "outputs": [],
   "source": [
    "df.createOrReplaceTempView(\"New_model_consumers\")"
   ]
  },
  {
   "cell_type": "code",
   "execution_count": 45,
   "metadata": {},
   "outputs": [],
   "source": [
    "Match = \"\"\"\n",
    "select a.*\n",
    "from mpartha9_NA_Match_query a\n",
    "inner join New_model_consumers b\n",
    "on a.consumer_id = b.consumer_id\n",
    "\"\"\"\n",
    "mpartha9_match = spark.sql(Match)\n",
    "mpartha9_match.createOrReplaceTempView(\"mpartha9_match\")"
   ]
  },
  {
   "cell_type": "code",
   "execution_count": 46,
   "metadata": {},
   "outputs": [
    {
     "name": "stdout",
     "output_type": "stream",
     "text": [
      "549396 549396\n"
     ]
    }
   ],
   "source": [
    "print(mpartha9_match.count(), mpartha9_match.select(\"consumer_id\").distinct().count())"
   ]
  },
  {
   "cell_type": "code",
   "execution_count": 47,
   "metadata": {},
   "outputs": [
    {
     "name": "stdout",
     "output_type": "stream",
     "text": [
      "+-----------+--------------+---------+\n",
      "|consumer_id|avg_cm_imputed|Latest_CM|\n",
      "+-----------+--------------+---------+\n",
      "|  100214113|  14370.590000| 27408.44|\n",
      "|  101523550|   8727.925000|  3670.71|\n",
      "|  101817003|   5231.456250| 11817.37|\n",
      "|  110802703|  12221.760000| 18169.33|\n",
      "|  124304305|  16265.140000| 13561.91|\n",
      "+-----------+--------------+---------+\n",
      "only showing top 5 rows\n",
      "\n"
     ]
    }
   ],
   "source": [
    "mpartha9_match.show(5)"
   ]
  },
  {
   "cell_type": "code",
   "execution_count": null,
   "metadata": {},
   "outputs": [],
   "source": []
  },
  {
   "cell_type": "code",
   "execution_count": null,
   "metadata": {},
   "outputs": [],
   "source": [
    "#------------ CHECK"
   ]
  },
  {
   "cell_type": "code",
   "execution_count": 48,
   "metadata": {},
   "outputs": [],
   "source": [
    "Check1 = \"\"\"\n",
    "select a.consumer_id, b.avg_cm\n",
    "from mpartha9_match a\n",
    "inner join mpartha9_NA_vomart_2003_21_with_avg_cm b\n",
    "on a.consumer_id = b.consumer_id\n",
    "\"\"\"\n",
    "mpartha9_check1 = spark.sql(Check1)\n",
    "mpartha9_check1.createOrReplaceTempView(\"mpartha9_check1\")"
   ]
  },
  {
   "cell_type": "code",
   "execution_count": 49,
   "metadata": {},
   "outputs": [
    {
     "name": "stdout",
     "output_type": "stream",
     "text": [
      "549396 549396\n"
     ]
    }
   ],
   "source": [
    "print(mpartha9_check1.count(), mpartha9_check1.select(\"consumer_id\").distinct().count())"
   ]
  },
  {
   "cell_type": "code",
   "execution_count": 50,
   "metadata": {},
   "outputs": [
    {
     "name": "stdout",
     "output_type": "stream",
     "text": [
      "+-----------+------------+\n",
      "|consumer_id|      avg_cm|\n",
      "+-----------+------------+\n",
      "|  100214113|14370.590000|\n",
      "|  101523550| 8727.925000|\n",
      "|  101817003| 5231.456250|\n",
      "|  110802703|12221.760000|\n",
      "|  124304305|16265.140000|\n",
      "+-----------+------------+\n",
      "only showing top 5 rows\n",
      "\n"
     ]
    }
   ],
   "source": [
    "mpartha9_check1.show(5)"
   ]
  },
  {
   "cell_type": "code",
   "execution_count": 51,
   "metadata": {},
   "outputs": [
    {
     "data": {
      "text/plain": [
       "85599"
      ]
     },
     "execution_count": 51,
     "metadata": {},
     "output_type": "execute_result"
    }
   ],
   "source": [
    "mpartha9_check1.where(col('avg_cm').isNull()).count()"
   ]
  },
  {
   "cell_type": "raw",
   "metadata": {},
   "source": [
    "mpartha9_check1.where(col('avg_cm').isNull()).count()\n",
    "#86997"
   ]
  },
  {
   "cell_type": "code",
   "execution_count": null,
   "metadata": {},
   "outputs": [],
   "source": [
    "#Around 15.5% percent of ID’s (of the 549,396 )  who’s previous purchase had 0 or missing CM"
   ]
  }
 ],
 "metadata": {
  "kernelspec": {
   "display_name": "py368nb_k",
   "language": "python",
   "name": "py368nb_k"
  },
  "language_info": {
   "codemirror_mode": {
    "name": "ipython",
    "version": 3
   },
   "file_extension": ".py",
   "mimetype": "text/x-python",
   "name": "python",
   "nbconvert_exporter": "python",
   "pygments_lexer": "ipython3",
   "version": "3.6.8"
  }
 },
 "nbformat": 4,
 "nbformat_minor": 2
}
