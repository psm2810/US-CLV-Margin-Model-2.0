{
 "cells": [
  {
   "cell_type": "code",
   "execution_count": 1,
   "metadata": {
    "ExecuteTime": {
     "end_time": "2022-08-10T09:05:37.400030Z",
     "start_time": "2022-08-10T09:05:37.368666Z"
    }
   },
   "outputs": [],
   "source": [
    "import numpy as np\n",
    "import csv\n",
    "import decimal\n",
    "import math\n",
    "import os\n",
    "import re\n",
    "import time\n",
    "import random\n",
    "from pyspark.sql.functions import udf\n",
    "from pyspark.sql.functions import isnan, when, count, col, to_date, row_number\n",
    "import pyspark.sql.functions\n",
    "from pyspark.sql.window import Window\n",
    "from pyspark.sql.types import DoubleType\n",
    "from pyspark.sql.types import StringType\n",
    "from pyspark.sql.types import IntegerType\n",
    "from pyspark.sql.types import LongType\n",
    "from pyspark.sql.types import DateType\n",
    "from pyspark.sql import HiveContext\n",
    "from pyspark.storagelevel import StorageLevel"
   ]
  },
  {
   "cell_type": "code",
   "execution_count": 2,
   "metadata": {
    "ExecuteTime": {
     "end_time": "2022-08-10T09:05:40.142145Z",
     "start_time": "2022-08-10T09:05:40.054081Z"
    }
   },
   "outputs": [],
   "source": [
    "from pyspark.sql.types import *\n",
    "\n",
    "from pyspark_llap.sql import HiveWarehouseBuilder\n",
    "from pyspark_llap.sql.session import CreateTableBuilder, HiveWarehouseSessionImpl\n",
    "hive = HiveWarehouseBuilder.session(spark).build()"
   ]
  },
  {
   "cell_type": "code",
   "execution_count": 3,
   "metadata": {
    "ExecuteTime": {
     "end_time": "2022-08-10T09:05:40.761543Z",
     "start_time": "2022-08-10T09:05:40.713076Z"
    }
   },
   "outputs": [
    {
     "data": {
      "text/plain": [
       "[('spark.eventLog.enabled', 'true'),\n",
       " ('spark.app.id', 'application_1678624282671_2622561'),\n",
       " ('spark.yarn.historyServer.address', 'http://hpchdp2i3.hpc.ford.com:18081'),\n",
       " ('spark.yarn.appMasterEnv.MKL_NUM_THREADS', '1'),\n",
       " ('spark.repl.local.jars',\n",
       "  'file:///s/hadoop/user/jars/hive-warehouse-connector-assembly-hpchdp2.jar,file:///u/mpartha9/scoring-code-spark-api_2.4.3-0.0.22.jar,file:///u/mpartha9/64132f079417a607d5972c42-64119c37f60675e3f6972a3d.jar'),\n",
       " ('spark.yarn.am.extraLibraryPath',\n",
       "  '/opt/cloudera/parcels/CDH-7.1.7-1.cdh7.1.7.p1000.24102687/lib/hadoop/lib/native'),\n",
       " ('spark.yarn.dist.pyFiles',\n",
       "  'file:///opt/cloudera/parcels/CDH/lib/hive_warehouse_connector/pyspark_hwc-1.0.0.7.1.7.1000-141.zip'),\n",
       " ('spark.sql.hive.hiveserver2.jdbc.url.principal', 'hive/_HOST@HPC.FORD.COM'),\n",
       " ('spark.shuffle.io.serverThreads', '128'),\n",
       " ('spark.org.apache.hadoop.yarn.server.webproxy.amfilter.AmIpFilter.param.RM_HA_URLS',\n",
       "  'hpchdp2.hpc.ford.com:8088,hpchdp2i4.hpc.ford.com:8088'),\n",
       " ('spark.serializer', 'org.apache.spark.serializer.KryoSerializer'),\n",
       " ('spark.driver.host', 'hpchdp2e.hpc.ford.com'),\n",
       " ('spark.ui.filters',\n",
       "  'org.apache.hadoop.yarn.server.webproxy.amfilter.AmIpFilter,'),\n",
       " ('spark.datasource.hive.warehouse.read.mode', 'staging_output'),\n",
       " ('spark.shuffle.file.buffer', '1m'),\n",
       " ('spark.yarn.jars',\n",
       "  'local:/opt/cloudera/parcels/CDH-7.1.7-1.cdh7.1.7.p1000.24102687/lib/spark/jars/*,local:/opt/cloudera/parcels/CDH-7.1.7-1.cdh7.1.7.p1000.24102687/lib/spark/hive/*'),\n",
       " ('spark.datasource.hive.warehouse.load.staging.dir', '/tmp/staging/hwc'),\n",
       " ('spark.yarn.dist.files', ''),\n",
       " ('spark.sql.autoBroadcastJoinThreshold', '26214400'),\n",
       " ('spark.sql.sources.commitProtocolClass',\n",
       "  'org.apache.spark.internal.io.cloud.PathOutputCommitProtocol'),\n",
       " ('spark.yarn.secondary.jars',\n",
       "  'hive-warehouse-connector-assembly-hpchdp2.jar,scoring-code-spark-api_2.4.3-0.0.22.jar,64132f079417a607d5972c42-64119c37f60675e3f6972a3d.jar'),\n",
       " ('spark.network.crypto.enabled', 'false'),\n",
       " ('spark.eventLog.dir', 'hdfs://hdp2cluster/spark2-history/'),\n",
       " ('spark.lineage.enabled', 'false'),\n",
       " ('spark.executorEnv.MKL_NUM_THREADS', '1'),\n",
       " ('spark.ui.enabled', 'true'),\n",
       " ('spark.sql.hive.hiveserver2.jdbc.url',\n",
       "  'jdbc:hive2://hpchdp2-zk-1.hpc.ford.com:2181,hpchdp2-zk-2.hpc.ford.com:2181,hpchdp2-zk-3.hpc.ford.com:2181/;serviceDiscoveryMode=zooKeeper;zooKeeperNamespace=hiveserver2-ranger'),\n",
       " ('spark.executor.id', 'driver'),\n",
       " ('spark.dynamicAllocation.schedulerBacklogTimeout', '1'),\n",
       " ('spark.app.name', 'PySparkShell'),\n",
       " ('spark.rpc.message.maxSize', '1024'),\n",
       " ('spark.yarn.config.gatewayPath', '/opt/cloudera/parcels'),\n",
       " ('spark.executor.memory', '32g'),\n",
       " ('spark.history.fs.logDirectory', 'hdfs:///spark2-history/'),\n",
       " ('spark.sql.hive.conf.list', 'hive.support.quoted.identifiers=none'),\n",
       " ('spark.sql.catalogImplementation', 'hive'),\n",
       " ('spark.dynamicAllocation.maxExecutors', '25'),\n",
       " ('spark.driver.log.persistToDfs.enabled', 'true'),\n",
       " ('spark.org.apache.hadoop.yarn.server.webproxy.amfilter.AmIpFilter.param.PROXY_HOSTS',\n",
       "  'hpchdp2.hpc.ford.com,hpchdp2i4.hpc.ford.com'),\n",
       " ('spark.yarn.config.replacementPath', '{{HADOOP_COMMON_HOME}}/../../..'),\n",
       " ('spark.executorEnv.OPENBLAS_NUM_THREADS', '1'),\n",
       " ('spark.acls.enable', 'true'),\n",
       " ('spark.executor.extraLibraryPath',\n",
       "  '/opt/cloudera/parcels/CDH-7.1.7-1.cdh7.1.7.p1000.24102687/lib/hadoop/lib/native'),\n",
       " ('spark.dynamicAllocation.initialExecutors', '0'),\n",
       " ('spark.sql.warehouse.dir', '/apps/spark/warehouse'),\n",
       " ('spark.driver.appUIAddress', 'http://hpchdp2e.hpc.ford.com:4071'),\n",
       " ('spark.driver.memory', '32g'),\n",
       " ('spark.driver.extraLibraryPath',\n",
       "  '/opt/cloudera/parcels/CDH-7.1.7-1.cdh7.1.7.p1000.24102687/lib/hadoop/lib/native'),\n",
       " ('spark.submit.pyFiles',\n",
       "  '/opt/cloudera/parcels/CDH/lib/hive_warehouse_connector/pyspark_hwc-1.0.0.7.1.7.1000-141.zip'),\n",
       " ('spark.ui.killEnabled', 'true'),\n",
       " ('spark.datasource.hive.warehouse.batch.datareader.columns.limit', '100'),\n",
       " ('spark.dynamicAllocation.executorIdleTimeout', '60'),\n",
       " ('spark.io.encryption.enabled', 'false'),\n",
       " ('spark.hadoop.mapreduce.fileoutputcommitter.algorithm.version', '1'),\n",
       " ('spark.sql.statistics.fallBackToHdfs', 'true'),\n",
       " ('spark.authenticate', 'false'),\n",
       " ('spark.serializer.objectStreamReset', '100'),\n",
       " ('spark.hadoop.hive.zookeeper.quorum',\n",
       "  'hpchdp2-zk-1.hpc.ford.com:2181,hpchdp2-zk-2.hpc.ford.com:2181,hpchdp2-zk-3.hpc.ford.com:2181'),\n",
       " ('spark.history.ui.acls.enable', 'true'),\n",
       " ('spark.submit.deployMode', 'client'),\n",
       " ('spark.executor.cores', '8'),\n",
       " ('spark.hadoop.metastore.catalog.default', 'hive'),\n",
       " ('spark.executorEnv.PYTHONPATH',\n",
       "  '/opt/cloudera/parcels/CDH-7.1.7-1.cdh7.1.7.p1000.24102687/lib/spark/python/lib/py4j-0.10.7-src.zip:/opt/cloudera/parcels/CDH-7.1.7-1.cdh7.1.7.p1000.24102687/lib/spark/python/:<CPS>/opt/cloudera/parcels/CDH-7.1.7-1.cdh7.1.7.p1000.24102687/lib/spark/python/lib/py4j-0.10.7-src.zip<CPS>/opt/cloudera/parcels/CDH-7.1.7-1.cdh7.1.7.p1000.24102687/lib/spark/python/lib/pyspark.zip<CPS>{{PWD}}/pyspark_hwc-1.0.0.7.1.7.1000-141.zip'),\n",
       " ('spark.shuffle.service.enabled', 'true'),\n",
       " ('spark.yarn.historyServer.allowTracking', 'true'),\n",
       " ('spark.kryoserializer.buffer.max', '1024m'),\n",
       " ('spark.yarn.appMasterEnv.OPENBLAS_NUM_THREADS', '1'),\n",
       " ('spark.org.apache.hadoop.yarn.server.webproxy.amfilter.AmIpFilter.param.PROXY_URI_BASES',\n",
       "  'http://hpchdp2.hpc.ford.com:8088/proxy/application_1678624282671_2622561,http://hpchdp2i4.hpc.ford.com:8088/proxy/application_1678624282671_2622561'),\n",
       " ('spark.shuffle.service.port', '7337'),\n",
       " ('spark.sql.parquet.output.committer.class',\n",
       "  'org.apache.spark.internal.io.cloud.BindingParquetOutputCommitter'),\n",
       " ('spark.sql.broadcastTimeout', '600'),\n",
       " ('spark.master', 'yarn'),\n",
       " ('spark.io.compression.lz4.blockSize', '128kb'),\n",
       " ('spark.port.maxRetries', '250'),\n",
       " ('spark.shuffle.io.backLog', '8192'),\n",
       " ('spark.rdd.compress', 'True'),\n",
       " ('spark.security.credentials.hiveserver2.enabled', 'true'),\n",
       " ('spark.dynamicAllocation.minExecutors', '0'),\n",
       " ('spark.unsafe.sorter.spill.reader.buffer.size', '1m'),\n",
       " ('spark.dynamicAllocation.enabled', 'true'),\n",
       " ('spark.shuffle.unsafe.file.output.buffer', '5m'),\n",
       " ('spark.hadoop.fs.s3a.committer.name', 'directory'),\n",
       " ('spark.yarn.dist.jars',\n",
       "  'file:///s/hadoop/user/jars/hive-warehouse-connector-assembly-hpchdp2.jar,file:///u/mpartha9/scoring-code-spark-api_2.4.3-0.0.22.jar,file:///u/mpartha9/64132f079417a607d5972c42-64119c37f60675e3f6972a3d.jar'),\n",
       " ('spark.dynamicAllocation.cachedExecutorIdleTimeout', '3600'),\n",
       " ('spark.yarn.isPython', 'true'),\n",
       " ('spark.ui.showConsoleProgress', 'true'),\n",
       " ('spark.driver.port', '34497'),\n",
       " ('spark.driver.log.dfsDir', '/user/spark/driverLogs')]"
      ]
     },
     "execution_count": 3,
     "metadata": {},
     "output_type": "execute_result"
    }
   ],
   "source": [
    "from pyspark.conf import SparkConf\n",
    "from pyspark.sql import SparkSession\n",
    "spark.sparkContext._conf.getAll()"
   ]
  },
  {
   "cell_type": "code",
   "execution_count": 4,
   "metadata": {
    "ExecuteTime": {
     "end_time": "2022-08-10T09:05:41.547677Z",
     "start_time": "2022-08-10T09:05:41.540520Z"
    }
   },
   "outputs": [],
   "source": [
    "hive_context = HiveContext(spark)\n",
    "hive_context.setConf(\"hive.exec.dynamic.partition\", \"true\")\n",
    "hive_context.setConf(\"hive.execution.engine\",\"spark\")\n",
    "hive_context.setConf(\"hive.prewarm.enabled\",\"true\")\n",
    "hive_context.setConf(\"hive.vectorized.execution.enabled\",\"true\")\n",
    "hive_context.setConf(\"hive.exec.dynamic.partition.mode\", \"nonstrict\")"
   ]
  },
  {
   "cell_type": "markdown",
   "metadata": {},
   "source": [
    "## VOMART Data Pull between 2003 to 2021 for FORD USA"
   ]
  },
  {
   "cell_type": "raw",
   "metadata": {},
   "source": [
    "Query1=\"\"\"select vin, \n",
    "consumer_id, \n",
    "vehicle_ownership_cycle_num,\n",
    "vehicle_model, \n",
    "vehicle_model_year, \n",
    "acquisition_date, \n",
    "acquisition_year,\n",
    "vehicle_age, \n",
    "fmcc_lease_purchase_ind, \n",
    "platform, \n",
    "lifestage_value,\n",
    "consumer_type_code,\n",
    "contribution_margin\n",
    "from dsc60180_ici_sde_tz_db.vomart_history\n",
    "where to_date(last_update_timestamp) = '2022-01-02'\n",
    "and acquisition_date >= '2003-01-01'\n",
    "and acquisition_date <= '2021-12-31'\n",
    "and country_code  = 'USA' \n",
    "and vehicle_make = 'FORD'\n",
    "and consumer_id is not NULL\n",
    "and vin is not NULL\n",
    "and household_demogrphics_key is not NULL\n",
    "\"\"\"\n",
    "mpartha9_NA_data_1_external_p1=hive.executeQuery(Query1)"
   ]
  },
  {
   "cell_type": "code",
   "execution_count": 5,
   "metadata": {},
   "outputs": [],
   "source": [
    "#Read the parquet file\n",
    "mpartha9_NA_data_1_external_p1=spark.read.parquet('mpartha9_vomart_2003_21_current_model.parquet')"
   ]
  },
  {
   "cell_type": "code",
   "execution_count": 6,
   "metadata": {},
   "outputs": [],
   "source": [
    "mpartha9_NA_data_1_external_p1.createOrReplaceTempView(\"mpartha9_NA_data_1_external_p1\")"
   ]
  },
  {
   "cell_type": "code",
   "execution_count": 7,
   "metadata": {},
   "outputs": [
    {
     "name": "stdout",
     "output_type": "stream",
     "text": [
      "66271637 41125090\n"
     ]
    }
   ],
   "source": [
    "print(mpartha9_NA_data_1_external_p1.count(), mpartha9_NA_data_1_external_p1.select(\"consumer_id\").distinct().count())"
   ]
  },
  {
   "cell_type": "code",
   "execution_count": 8,
   "metadata": {},
   "outputs": [
    {
     "name": "stdout",
     "output_type": "stream",
     "text": [
      "root\n",
      " |-- vin: string (nullable = true)\n",
      " |-- consumer_id: decimal(11,0) (nullable = true)\n",
      " |-- vehicle_ownership_cycle_num: short (nullable = true)\n",
      " |-- vehicle_model: string (nullable = true)\n",
      " |-- vehicle_model_year: string (nullable = true)\n",
      " |-- acquisition_date: date (nullable = true)\n",
      " |-- acquisition_year: short (nullable = true)\n",
      " |-- vehicle_age: short (nullable = true)\n",
      " |-- fmcc_lease_purchase_ind: byte (nullable = true)\n",
      " |-- platform: string (nullable = true)\n",
      " |-- lifestage_value: string (nullable = true)\n",
      " |-- consumer_type_code: string (nullable = true)\n",
      " |-- contribution_margin: decimal(15,2) (nullable = true)\n",
      "\n"
     ]
    }
   ],
   "source": [
    "mpartha9_NA_data_1_external_p1.printSchema()"
   ]
  },
  {
   "cell_type": "markdown",
   "metadata": {},
   "source": [
    "### NEW MODEL :   All NON-ZERO data records"
   ]
  },
  {
   "cell_type": "code",
   "execution_count": 9,
   "metadata": {},
   "outputs": [],
   "source": [
    "#All NON-ZERO data records\n",
    "Query2=\"\"\"select vin, \n",
    "consumer_id,\n",
    "vehicle_ownership_cycle_num,\n",
    "trim(vehicle_model) as vehicle_model, \n",
    "int(vehicle_model_year) as vehicle_model_year, \n",
    "acquisition_date, \n",
    "acquisition_year,\n",
    "vehicle_age, \n",
    "fmcc_lease_purchase_ind, \n",
    "trim(platform) as platform,\n",
    "trim(lifestage_value) as lifestage_value,\n",
    "cast(contribution_margin as decimal(18,2)) as contribution_margin\n",
    "from mpartha9_NA_data_1_external_p1\n",
    "where contribution_margin != 0\n",
    "and consumer_type_code='I'\n",
    "\"\"\"\n",
    "mpartha9_NA_combo_all_nonzero_records_p2=spark.sql(Query2)\n",
    "mpartha9_NA_combo_all_nonzero_records_p2.createOrReplaceTempView(\"mpartha9_NA_combo_all_nonzero_records_p2\")"
   ]
  },
  {
   "cell_type": "code",
   "execution_count": 10,
   "metadata": {},
   "outputs": [
    {
     "name": "stdout",
     "output_type": "stream",
     "text": [
      "21352960 15086551\n"
     ]
    }
   ],
   "source": [
    "print(mpartha9_NA_combo_all_nonzero_records_p2.count(), mpartha9_NA_combo_all_nonzero_records_p2.select(\"consumer_id\").distinct().count())"
   ]
  },
  {
   "cell_type": "code",
   "execution_count": 11,
   "metadata": {
    "scrolled": false
   },
   "outputs": [
    {
     "name": "stdout",
     "output_type": "stream",
     "text": [
      "+-----------------+-----------+---------------------------+-------------+------------------+----------------+----------------+-----------+-----------------------+--------+---------------+-------------------+\n",
      "|              vin|consumer_id|vehicle_ownership_cycle_num|vehicle_model|vehicle_model_year|acquisition_date|acquisition_year|vehicle_age|fmcc_lease_purchase_ind|platform|lifestage_value|contribution_margin|\n",
      "+-----------------+-----------+---------------------------+-------------+------------------+----------------+----------------+-----------+-----------------------+--------+---------------+-------------------+\n",
      "|1FTPW14554KD61923|    1601895|                          1|        F-150|              2004|      2004-08-16|            2004|         18|                      0|   TRUCK| Late Ownership|           12808.96|\n",
      "|1FAFP33P44W191799|    1616104|                          1|        FOCUS|              2004|      2004-06-03|            2004|         18|                      0|     CAR| Late Ownership|            1879.11|\n",
      "+-----------------+-----------+---------------------------+-------------+------------------+----------------+----------------+-----------+-----------------------+--------+---------------+-------------------+\n",
      "only showing top 2 rows\n",
      "\n"
     ]
    }
   ],
   "source": [
    "mpartha9_NA_combo_all_nonzero_records_p2.show(2)"
   ]
  },
  {
   "cell_type": "code",
   "execution_count": 12,
   "metadata": {},
   "outputs": [
    {
     "data": {
      "text/plain": [
       "0"
      ]
     },
     "execution_count": 12,
     "metadata": {},
     "output_type": "execute_result"
    }
   ],
   "source": [
    "mpartha9_NA_combo_all_nonzero_records_p2.where(col('contribution_margin').isNull()).count()"
   ]
  },
  {
   "cell_type": "markdown",
   "metadata": {},
   "source": [
    "### median of non zero CM values"
   ]
  },
  {
   "cell_type": "code",
   "execution_count": 13,
   "metadata": {},
   "outputs": [],
   "source": [
    "import pyspark.sql.functions as F"
   ]
  },
  {
   "cell_type": "code",
   "execution_count": 14,
   "metadata": {
    "scrolled": true
   },
   "outputs": [],
   "source": [
    "# getting median of contribution_margin at model+model_year level\n",
    "mpartha9_NA_nonzero_median_p3=mpartha9_NA_combo_all_nonzero_records_p2.groupBy(['vehicle_model', 'acquisition_year']).agg(F.expr('percentile_approx(contribution_margin, 0.5)').alias(\"contribution_margin\"))"
   ]
  },
  {
   "cell_type": "code",
   "execution_count": 15,
   "metadata": {},
   "outputs": [],
   "source": [
    "mpartha9_NA_nonzero_median_p3=mpartha9_NA_nonzero_median_p3.orderBy(['vehicle_model','acquisition_year'],ascending=True)"
   ]
  },
  {
   "cell_type": "code",
   "execution_count": 16,
   "metadata": {},
   "outputs": [
    {
     "name": "stdout",
     "output_type": "stream",
     "text": [
      "+-------------+----------------+-------------------+\n",
      "|vehicle_model|acquisition_year|contribution_margin|\n",
      "+-------------+----------------+-------------------+\n",
      "|         null|            2006|           21710.85|\n",
      "|         null|            2007|            5667.10|\n",
      "|         null|            2008|            8983.44|\n",
      "|         null|            2009|           12678.95|\n",
      "|         null|            2010|           14351.79|\n",
      "|         null|            2011|           11102.76|\n",
      "|         null|            2012|           15431.36|\n",
      "|         null|            2013|           11284.14|\n",
      "|         null|            2014|            9878.81|\n",
      "|         null|            2015|           10485.89|\n",
      "|         null|            2016|           19728.37|\n",
      "|         null|            2021|           21837.52|\n",
      "|             |            2021|           18958.49|\n",
      "|       BRONCO|            2021|           16587.41|\n",
      "| BRONCO SPORT|            2020|            7192.67|\n",
      "| BRONCO SPORT|            2021|            7466.06|\n",
      "|        C-450|            2008|           -7827.88|\n",
      "|        C-450|            2009|           -6045.56|\n",
      "|        C-450|            2010|           -8781.05|\n",
      "|        C-550|            2006|            7205.37|\n",
      "+-------------+----------------+-------------------+\n",
      "only showing top 20 rows\n",
      "\n"
     ]
    }
   ],
   "source": [
    "mpartha9_NA_nonzero_median_p3.show()"
   ]
  },
  {
   "cell_type": "code",
   "execution_count": 17,
   "metadata": {
    "scrolled": true
   },
   "outputs": [
    {
     "name": "stdout",
     "output_type": "stream",
     "text": [
      "root\n",
      " |-- vehicle_model: string (nullable = true)\n",
      " |-- acquisition_year: short (nullable = true)\n",
      " |-- contribution_margin: decimal(18,2) (nullable = true)\n",
      "\n"
     ]
    }
   ],
   "source": [
    "mpartha9_NA_nonzero_median_p3.printSchema()"
   ]
  },
  {
   "cell_type": "code",
   "execution_count": 18,
   "metadata": {
    "scrolled": true
   },
   "outputs": [
    {
     "data": {
      "text/plain": [
       "485"
      ]
     },
     "execution_count": 18,
     "metadata": {},
     "output_type": "execute_result"
    }
   ],
   "source": [
    "mpartha9_NA_nonzero_median_p3.count()"
   ]
  },
  {
   "cell_type": "markdown",
   "metadata": {},
   "source": [
    "### Only zero CM  records"
   ]
  },
  {
   "cell_type": "code",
   "execution_count": 19,
   "metadata": {},
   "outputs": [],
   "source": [
    "#only zero CM  records\n",
    "Query3=\"\"\"select vin, \n",
    "consumer_id,\n",
    "vehicle_ownership_cycle_num,\n",
    "trim(vehicle_model) as vehicle_model, \n",
    "int(vehicle_model_year) as vehicle_model_year, \n",
    "acquisition_date, \n",
    "acquisition_year,\n",
    "vehicle_age, \n",
    "fmcc_lease_purchase_ind, \n",
    "trim(platform) as platform,\n",
    "trim(lifestage_value) as lifestage_value,\n",
    "cast(contribution_margin as decimal(18,2)) as contribution_margin_0\n",
    "from mpartha9_NA_data_1_external_p1\n",
    "where contribution_margin = 0\n",
    "and consumer_type_code='I'\n",
    "\"\"\"\n",
    "mpartha9_NA_combo_all_zero_records_p3=spark.sql(Query3)\n",
    "mpartha9_NA_combo_all_zero_records_p3.createOrReplaceTempView(\"mpartha9_NA_combo_all_zero_records_p3\")"
   ]
  },
  {
   "cell_type": "code",
   "execution_count": 20,
   "metadata": {},
   "outputs": [
    {
     "name": "stdout",
     "output_type": "stream",
     "text": [
      "32738647 27023667\n"
     ]
    }
   ],
   "source": [
    "print(mpartha9_NA_combo_all_zero_records_p3.count(), mpartha9_NA_combo_all_zero_records_p3.select(\"consumer_id\").distinct().count())"
   ]
  },
  {
   "cell_type": "code",
   "execution_count": 21,
   "metadata": {},
   "outputs": [
    {
     "name": "stdout",
     "output_type": "stream",
     "text": [
      "+-----------------+-----------+---------------------------+-------------+------------------+----------------+----------------+-----------+-----------------------+--------+---------------+---------------------+\n",
      "|              vin|consumer_id|vehicle_ownership_cycle_num|vehicle_model|vehicle_model_year|acquisition_date|acquisition_year|vehicle_age|fmcc_lease_purchase_ind|platform|lifestage_value|contribution_margin_0|\n",
      "+-----------------+-----------+---------------------------+-------------+------------------+----------------+----------------+-----------+-----------------------+--------+---------------+---------------------+\n",
      "|1FTRW12W37KD37502|    2122507|                          1|        F-150|              2007|      2007-08-09|            2007|         15|                      0|   TRUCK| Late Ownership|                 0.00|\n",
      "|1FMEU74E86UA38128|    2202795|                          1|     EXPLORER|              2006|      2006-02-28|            2006|         16|                      1|   TRUCK| Late Ownership|                 0.00|\n",
      "+-----------------+-----------+---------------------------+-------------+------------------+----------------+----------------+-----------+-----------------------+--------+---------------+---------------------+\n",
      "only showing top 2 rows\n",
      "\n"
     ]
    }
   ],
   "source": [
    "mpartha9_NA_combo_all_zero_records_p3.show(2)"
   ]
  },
  {
   "cell_type": "code",
   "execution_count": 22,
   "metadata": {},
   "outputs": [
    {
     "data": {
      "text/plain": [
       "0"
      ]
     },
     "execution_count": 22,
     "metadata": {},
     "output_type": "execute_result"
    }
   ],
   "source": [
    "mpartha9_NA_combo_all_zero_records_p3.where(col('contribution_margin_0').isNull()).count()"
   ]
  },
  {
   "cell_type": "markdown",
   "metadata": {},
   "source": [
    "### Replace all zero CM records with median imputation - acc to vehicle model and model year"
   ]
  },
  {
   "cell_type": "code",
   "execution_count": 23,
   "metadata": {},
   "outputs": [],
   "source": [
    "df_join = mpartha9_NA_combo_all_zero_records_p3.join(mpartha9_NA_nonzero_median_p3, on=['vehicle_model', 'acquisition_year'],how='inner') "
   ]
  },
  {
   "cell_type": "code",
   "execution_count": 24,
   "metadata": {},
   "outputs": [
    {
     "name": "stdout",
     "output_type": "stream",
     "text": [
      "+-------------+----------------+-----------------+-----------+---------------------------+------------------+----------------+-----------+-----------------------+--------+---------------+---------------------+-------------------+\n",
      "|vehicle_model|acquisition_year|              vin|consumer_id|vehicle_ownership_cycle_num|vehicle_model_year|acquisition_date|vehicle_age|fmcc_lease_purchase_ind|platform|lifestage_value|contribution_margin_0|contribution_margin|\n",
      "+-------------+----------------+-----------------+-----------+---------------------------+------------------+----------------+-----------+-----------------------+--------+---------------+---------------------+-------------------+\n",
      "|       FIESTA|            2020|3FADP4BJ2JM131803|10068785650|                          3|              2018|      2020-12-20|          4|                      0|     CAR|  Mid Ownership|                 0.00|            2635.67|\n",
      "|       FIESTA|            2020|3FADP4FJ4CM187058|10106349650|                          2|              2012|      2020-05-22|         10|                      0|     CAR| Late Ownership|                 0.00|            2635.67|\n",
      "|       FIESTA|            2020|3FADP4EJXEM127239|10111855852|                          2|              2014|      2020-09-09|          9|                      0|     CAR|           null|                 0.00|            2635.67|\n",
      "|       FIESTA|            2020|3FADP4EJ7GM140632|10130496650|                          2|              2016|      2020-12-10|          7|                      0|     CAR|  Post Warranty|                 0.00|            2635.67|\n",
      "|       FIESTA|            2020|3FADP4GX6JM111518|10188734750|                          2|              2018|      2020-05-08|          4|                      0|     CAR|           null|                 0.00|            2635.67|\n",
      "+-------------+----------------+-----------------+-----------+---------------------------+------------------+----------------+-----------+-----------------------+--------+---------------+---------------------+-------------------+\n",
      "only showing top 5 rows\n",
      "\n"
     ]
    }
   ],
   "source": [
    "df_join.show(5)"
   ]
  },
  {
   "cell_type": "code",
   "execution_count": 25,
   "metadata": {},
   "outputs": [
    {
     "name": "stdout",
     "output_type": "stream",
     "text": [
      "31047202 25721636\n"
     ]
    }
   ],
   "source": [
    "print(df_join.count(), df_join.select(\"consumer_id\").distinct().count())"
   ]
  },
  {
   "cell_type": "code",
   "execution_count": 26,
   "metadata": {},
   "outputs": [
    {
     "data": {
      "text/plain": [
       "0"
      ]
     },
     "execution_count": 26,
     "metadata": {},
     "output_type": "execute_result"
    }
   ],
   "source": [
    "df_join.where(col('contribution_margin').isNull()).count()"
   ]
  },
  {
   "cell_type": "code",
   "execution_count": 27,
   "metadata": {},
   "outputs": [],
   "source": [
    "# dropping unneccessary columns \n",
    "df_clean = df_join.drop('contribution_margin_0')"
   ]
  },
  {
   "cell_type": "code",
   "execution_count": 28,
   "metadata": {},
   "outputs": [
    {
     "name": "stdout",
     "output_type": "stream",
     "text": [
      "+-------------+----------------+-----------------+-----------+---------------------------+------------------+----------------+-----------+-----------------------+--------+---------------+-------------------+\n",
      "|vehicle_model|acquisition_year|              vin|consumer_id|vehicle_ownership_cycle_num|vehicle_model_year|acquisition_date|vehicle_age|fmcc_lease_purchase_ind|platform|lifestage_value|contribution_margin|\n",
      "+-------------+----------------+-----------------+-----------+---------------------------+------------------+----------------+-----------+-----------------------+--------+---------------+-------------------+\n",
      "|       FIESTA|            2020|3FADP4BJXDM186455| 1748874121|                          2|              2013|      2020-07-21|          9|                      0|     CAR| Late Ownership|            2635.67|\n",
      "|       FIESTA|            2020|3FADP4BJ7CM102655| 7514011304|                          2|              2012|      2020-02-25|         11|                      0|     CAR| Late Ownership|            2635.67|\n",
      "|       FIESTA|            2020|3FADP4BJ5KM107268|10030396050|                          2|              2019|      2020-12-19|          4|                      0|     CAR| Late Ownership|            2635.67|\n",
      "|       FIESTA|            2020|3FADP4BJ6CM170008|10041490752|                          2|              2012|      2020-05-02|         10|                      0|     CAR|           null|            2635.67|\n",
      "|       FIESTA|            2020|3FADP4AJ5HM153192|10083502352|                          2|              2017|      2020-01-11|          5|                      0|     CAR|Early Ownership|            2635.67|\n",
      "+-------------+----------------+-----------------+-----------+---------------------------+------------------+----------------+-----------+-----------------------+--------+---------------+-------------------+\n",
      "only showing top 5 rows\n",
      "\n"
     ]
    }
   ],
   "source": [
    "df_clean.show(5)"
   ]
  },
  {
   "cell_type": "code",
   "execution_count": 29,
   "metadata": {},
   "outputs": [],
   "source": [
    "df_clean.createOrReplaceTempView(\"mpartha9_NA_df_clean\")"
   ]
  },
  {
   "cell_type": "code",
   "execution_count": 30,
   "metadata": {},
   "outputs": [
    {
     "name": "stdout",
     "output_type": "stream",
     "text": [
      "root\n",
      " |-- vehicle_model: string (nullable = true)\n",
      " |-- acquisition_year: short (nullable = true)\n",
      " |-- vin: string (nullable = true)\n",
      " |-- consumer_id: decimal(11,0) (nullable = true)\n",
      " |-- vehicle_ownership_cycle_num: short (nullable = true)\n",
      " |-- vehicle_model_year: integer (nullable = true)\n",
      " |-- acquisition_date: date (nullable = true)\n",
      " |-- vehicle_age: short (nullable = true)\n",
      " |-- fmcc_lease_purchase_ind: byte (nullable = true)\n",
      " |-- platform: string (nullable = true)\n",
      " |-- lifestage_value: string (nullable = true)\n",
      " |-- contribution_margin: decimal(18,2) (nullable = true)\n",
      "\n"
     ]
    }
   ],
   "source": [
    "df_clean.printSchema()"
   ]
  },
  {
   "cell_type": "code",
   "execution_count": 31,
   "metadata": {},
   "outputs": [],
   "source": [
    "df_clean_rearrange=\"\"\"select vin, consumer_id, vehicle_ownership_cycle_num, vehicle_model, vehicle_model_year, acquisition_date, acquisition_year,\n",
    "vehicle_age, fmcc_lease_purchase_ind, platform, lifestage_value, contribution_margin\n",
    "from mpartha9_NA_df_clean\n",
    "\"\"\"\n",
    "df_clean_final=spark.sql(df_clean_rearrange)"
   ]
  },
  {
   "cell_type": "code",
   "execution_count": 32,
   "metadata": {},
   "outputs": [
    {
     "name": "stdout",
     "output_type": "stream",
     "text": [
      "31047202 25721636\n"
     ]
    }
   ],
   "source": [
    "print(df_clean_final.count(), df_clean_final.select(\"consumer_id\").distinct().count())"
   ]
  },
  {
   "cell_type": "code",
   "execution_count": 33,
   "metadata": {},
   "outputs": [
    {
     "name": "stdout",
     "output_type": "stream",
     "text": [
      "+-----------------+-----------+---------------------------+-------------+------------------+----------------+----------------+-----------+-----------------------+--------+---------------+-------------------+\n",
      "|              vin|consumer_id|vehicle_ownership_cycle_num|vehicle_model|vehicle_model_year|acquisition_date|acquisition_year|vehicle_age|fmcc_lease_purchase_ind|platform|lifestage_value|contribution_margin|\n",
      "+-----------------+-----------+---------------------------+-------------+------------------+----------------+----------------+-----------+-----------------------+--------+---------------+-------------------+\n",
      "|3FADP4GX4HM147850|12992531150|                          1|       FIESTA|              2017|      2020-07-27|            2020|          2|                      0|     CAR|  Mid Ownership|            2635.67|\n",
      "|3FADP4BJ0DM184696| 1711386320|                          2|       FIESTA|              2013|      2020-03-11|            2020|          9|                      0|     CAR| Late Ownership|            2635.67|\n",
      "|3FADP4BJ5CM182926|10038350652|                          2|       FIESTA|              2012|      2020-08-19|            2020|         10|                      0|     CAR|           null|            2635.67|\n",
      "|3FADP4EJ9CM145941|10075130552|                          2|       FIESTA|              2012|      2020-02-04|            2020|         10|                      0|     CAR|  Post Warranty|            2635.67|\n",
      "|3FADP4BJ6GM166675|10115199452|                          2|       FIESTA|              2016|      2020-03-02|            2020|          6|                      0|     CAR|           null|            2635.67|\n",
      "+-----------------+-----------+---------------------------+-------------+------------------+----------------+----------------+-----------+-----------------------+--------+---------------+-------------------+\n",
      "only showing top 5 rows\n",
      "\n"
     ]
    }
   ],
   "source": [
    "df_clean_final.show(5)"
   ]
  },
  {
   "cell_type": "markdown",
   "metadata": {},
   "source": [
    "### APPEND NONZERO AND IMPUTED ZERO CM"
   ]
  },
  {
   "cell_type": "code",
   "execution_count": 34,
   "metadata": {},
   "outputs": [],
   "source": [
    "## APPEND NONZERO AND IMPUTED ZERO CM\n",
    "mpartha9_NA_df_append = mpartha9_NA_combo_all_nonzero_records_p2.union(df_clean_final)\n",
    "mpartha9_NA_df_append.createOrReplaceTempView(\"mpartha9_NA_df_append\")"
   ]
  },
  {
   "cell_type": "code",
   "execution_count": 35,
   "metadata": {
    "scrolled": true
   },
   "outputs": [
    {
     "name": "stdout",
     "output_type": "stream",
     "text": [
      "52400162 36936249\n"
     ]
    }
   ],
   "source": [
    "print(mpartha9_NA_df_append.count(), mpartha9_NA_df_append.select(\"consumer_id\").distinct().count())"
   ]
  },
  {
   "cell_type": "code",
   "execution_count": 36,
   "metadata": {},
   "outputs": [
    {
     "name": "stdout",
     "output_type": "stream",
     "text": [
      "+-----------------+-----------+---------------------------+-------------+------------------+----------------+----------------+-----------+-----------------------+--------+---------------+-------------------+\n",
      "|              vin|consumer_id|vehicle_ownership_cycle_num|vehicle_model|vehicle_model_year|acquisition_date|acquisition_year|vehicle_age|fmcc_lease_purchase_ind|platform|lifestage_value|contribution_margin|\n",
      "+-----------------+-----------+---------------------------+-------------+------------------+----------------+----------------+-----------+-----------------------+--------+---------------+-------------------+\n",
      "|1FTPW14554KD61923|    1601895|                          1|        F-150|              2004|      2004-08-16|            2004|         18|                      0|   TRUCK| Late Ownership|           12808.96|\n",
      "|1FAFP33P44W191799|    1616104|                          1|        FOCUS|              2004|      2004-06-03|            2004|         18|                      0|     CAR| Late Ownership|            1879.11|\n",
      "|1FAHP35NX9W253153|    6301294|                          1|        FOCUS|              2009|      2009-05-21|            2009|         13|                      0|     CAR| Late Ownership|            3332.39|\n",
      "|3FAHP08Z99R110887|   12915409|                          1|       FUSION|              2009|      2009-06-29|            2009|         14|                      0|     CAR| Late Ownership|            3410.78|\n",
      "|1ZVHT80N885113050|   16109109|                          1|      MUSTANG|              2008|      2009-03-25|            2009|         13|                      0|     CAR| Late Ownership|            1698.80|\n",
      "+-----------------+-----------+---------------------------+-------------+------------------+----------------+----------------+-----------+-----------------------+--------+---------------+-------------------+\n",
      "only showing top 5 rows\n",
      "\n"
     ]
    }
   ],
   "source": [
    "mpartha9_NA_df_append.show(5)"
   ]
  },
  {
   "cell_type": "raw",
   "metadata": {},
   "source": [
    "#mpartha9_NA_df_append.write.format(\"orc\").mode(\"overwrite\").option(\"path\", \"/project/dz/collab/ICI_ANALYTICS/mpartha9_NA_df_append\") \\\n",
    "#.saveAsTable('ici_analytics.mpartha9_NA_df_append')"
   ]
  },
  {
   "cell_type": "code",
   "execution_count": null,
   "metadata": {},
   "outputs": [],
   "source": []
  },
  {
   "cell_type": "markdown",
   "metadata": {},
   "source": [
    "### Customers who bought a new vehicle in 2022 or later from Ford USA"
   ]
  },
  {
   "cell_type": "raw",
   "metadata": {},
   "source": [
    "Query_2022_beyond=\"\"\"select vin, \n",
    "consumer_id, \n",
    "vehicle_ownership_cycle_num,\n",
    "vehicle_model, \n",
    "vehicle_model_year, \n",
    "acquisition_date, \n",
    "acquisition_year,\n",
    "vehicle_age, \n",
    "fmcc_lease_purchase_ind, \n",
    "platform, \n",
    "lifestage_value,\n",
    "consumer_type_code,\n",
    "contribution_margin\n",
    "from dsc60180_ici_sde_tz_db.vomart\n",
    "where acquisition_date >= '2022-01-01'\n",
    "and country_code  = 'USA' \n",
    "and vehicle_make = 'FORD'\n",
    "and consumer_id is not NULL\n",
    "and vin is not NULL\n",
    "and contribution_margin is NOT NULL\n",
    "and contribution_margin != 0\n",
    "\"\"\"\n",
    "mpartha9_vomart_2022_beyond=hive.executeQuery(Query_2022_beyond)"
   ]
  },
  {
   "cell_type": "code",
   "execution_count": null,
   "metadata": {},
   "outputs": [],
   "source": [
    "#Save the original extract as parquet file\n",
    "#mpartha9_vomart_2022_beyond.write.parquet(\"mpartha9_vomart_2022_beyond.parquet\")"
   ]
  },
  {
   "cell_type": "code",
   "execution_count": 37,
   "metadata": {},
   "outputs": [],
   "source": [
    "#Read the parquet file\n",
    "mpartha9_vomart_2022_beyond=spark.read.parquet('mpartha9_vomart_2022_beyond.parquet')"
   ]
  },
  {
   "cell_type": "code",
   "execution_count": 38,
   "metadata": {},
   "outputs": [],
   "source": [
    "mpartha9_vomart_2022_beyond.createOrReplaceTempView(\"mpartha9_vomart_2022_beyond\")"
   ]
  },
  {
   "cell_type": "code",
   "execution_count": 39,
   "metadata": {},
   "outputs": [
    {
     "name": "stdout",
     "output_type": "stream",
     "text": [
      "2061970 1385035\n"
     ]
    }
   ],
   "source": [
    "print(mpartha9_vomart_2022_beyond.count(), mpartha9_vomart_2022_beyond.select(\"consumer_id\").distinct().count())"
   ]
  },
  {
   "cell_type": "markdown",
   "metadata": {},
   "source": [
    "### Only Retail"
   ]
  },
  {
   "cell_type": "code",
   "execution_count": 40,
   "metadata": {},
   "outputs": [],
   "source": [
    "Query_retail=\"\"\"select *\n",
    "from mpartha9_vomart_2022_beyond\n",
    "where consumer_type_code='I'\n",
    "\"\"\"\n",
    "mpartha9_vomart_2022_beyond_retail=spark.sql(Query_retail)\n",
    "mpartha9_vomart_2022_beyond_retail.createOrReplaceTempView(\"mpartha9_vomart_2022_beyond_retail\")"
   ]
  },
  {
   "cell_type": "code",
   "execution_count": 41,
   "metadata": {},
   "outputs": [
    {
     "name": "stdout",
     "output_type": "stream",
     "text": [
      "1266000 1196833\n"
     ]
    }
   ],
   "source": [
    "print(mpartha9_vomart_2022_beyond_retail.count(), mpartha9_vomart_2022_beyond_retail.select(\"consumer_id\").distinct().count())"
   ]
  },
  {
   "cell_type": "markdown",
   "metadata": {},
   "source": [
    "### Row Numbering based on Acquisition date"
   ]
  },
  {
   "cell_type": "code",
   "execution_count": 42,
   "metadata": {},
   "outputs": [],
   "source": [
    "Query_row_numbering = \"\"\"select *\n",
    "from \n",
    "(select *,\n",
    "ROW_NUMBER() OVER (PARTITION BY consumer_id ORDER BY acquisition_date) as ROW_numbering\n",
    "from mpartha9_vomart_2022_beyond_retail\n",
    ") a\n",
    "\"\"\"\n",
    "mpartha9_NA_row_numbering = spark.sql(Query_row_numbering)\n",
    "mpartha9_NA_row_numbering.createOrReplaceTempView(\"mpartha9_NA_row_numbering\")"
   ]
  },
  {
   "cell_type": "code",
   "execution_count": 43,
   "metadata": {},
   "outputs": [
    {
     "name": "stdout",
     "output_type": "stream",
     "text": [
      "1266000 1196833\n"
     ]
    }
   ],
   "source": [
    "print(mpartha9_NA_row_numbering.count(), mpartha9_NA_row_numbering.select(\"consumer_id\").distinct().count())"
   ]
  },
  {
   "cell_type": "code",
   "execution_count": 44,
   "metadata": {},
   "outputs": [
    {
     "name": "stdout",
     "output_type": "stream",
     "text": [
      "+-----------------+-----------+---------------------------+-------------+------------------+----------------+----------------+-----------+-----------------------+--------+---------------+------------------+-------------------+-------------+\n",
      "|              vin|consumer_id|vehicle_ownership_cycle_num|vehicle_model|vehicle_model_year|acquisition_date|acquisition_year|vehicle_age|fmcc_lease_purchase_ind|platform|lifestage_value|consumer_type_code|contribution_margin|ROW_numbering|\n",
      "+-----------------+-----------+---------------------------+-------------+------------------+----------------+----------------+-----------+-----------------------+--------+---------------+------------------+-------------------+-------------+\n",
      "|1FTFW1E84NFB10664|   11936403|                          1|        F-150|              2022|      2022-05-25|            2022|          1|                      0|   TRUCK|Early Ownership|                 I|           18407.93|            1|\n",
      "|1FT8W3DTXNEF02600|  100214113|                          1|        F-350|              2022|      2022-10-13|            2022|          1|                      0|   TRUCK|Early Ownership|                 I|           27408.44|            1|\n",
      "+-----------------+-----------+---------------------------+-------------+------------------+----------------+----------------+-----------+-----------------------+--------+---------------+------------------+-------------------+-------------+\n",
      "only showing top 2 rows\n",
      "\n"
     ]
    }
   ],
   "source": [
    "mpartha9_NA_row_numbering.show(2)"
   ]
  },
  {
   "cell_type": "markdown",
   "metadata": {},
   "source": [
    "### Only First Transaction in 2022 and beyond"
   ]
  },
  {
   "cell_type": "code",
   "execution_count": 45,
   "metadata": {},
   "outputs": [],
   "source": [
    "Query_only_latest_transaction = \"\"\"select consumer_id, acquisition_date, \n",
    "contribution_margin as Latest_CM\n",
    "from mpartha9_NA_row_numbering\n",
    "where ROW_numbering = 1\n",
    "\"\"\"\n",
    "mpartha9_NA_only_latest_transaction = spark.sql(Query_only_latest_transaction)\n",
    "mpartha9_NA_only_latest_transaction.createOrReplaceTempView(\"mpartha9_NA_only_latest_transaction\")"
   ]
  },
  {
   "cell_type": "code",
   "execution_count": 46,
   "metadata": {},
   "outputs": [
    {
     "name": "stdout",
     "output_type": "stream",
     "text": [
      "1196833 1196833\n"
     ]
    }
   ],
   "source": [
    "print(mpartha9_NA_only_latest_transaction.count(), mpartha9_NA_only_latest_transaction.select(\"consumer_id\").distinct().count())"
   ]
  },
  {
   "cell_type": "code",
   "execution_count": 47,
   "metadata": {},
   "outputs": [
    {
     "name": "stdout",
     "output_type": "stream",
     "text": [
      "+-----------+----------------+---------+\n",
      "|consumer_id|acquisition_date|Latest_CM|\n",
      "+-----------+----------------+---------+\n",
      "|   11936403|      2022-05-25| 18407.93|\n",
      "|  100214113|      2022-10-13| 27408.44|\n",
      "|  101523550|      2022-06-27|  3670.71|\n",
      "|  101817003|      2022-05-23| 11817.37|\n",
      "|  110802703|      2023-03-08| 18169.33|\n",
      "+-----------+----------------+---------+\n",
      "only showing top 5 rows\n",
      "\n"
     ]
    }
   ],
   "source": [
    "mpartha9_NA_only_latest_transaction.show(5)"
   ]
  },
  {
   "cell_type": "markdown",
   "metadata": {},
   "source": [
    "### Match back beyond_2022 with consumer_ids before 2022"
   ]
  },
  {
   "cell_type": "code",
   "execution_count": 48,
   "metadata": {},
   "outputs": [],
   "source": [
    "Match_query = \"\"\"\n",
    "select a.*, b.Latest_CM\n",
    "from mpartha9_NA_df_append a\n",
    "inner join mpartha9_NA_only_latest_transaction b\n",
    "on a.consumer_id = b.consumer_id\n",
    "\"\"\"\n",
    "mpartha9_NA_Match_query = spark.sql(Match_query)\n",
    "mpartha9_NA_Match_query.createOrReplaceTempView(\"mpartha9_NA_Match_query\")"
   ]
  },
  {
   "cell_type": "code",
   "execution_count": 49,
   "metadata": {},
   "outputs": [
    {
     "name": "stdout",
     "output_type": "stream",
     "text": [
      "1579701 549396\n"
     ]
    }
   ],
   "source": [
    "print(mpartha9_NA_Match_query.count(), mpartha9_NA_Match_query.select(\"consumer_id\").distinct().count())"
   ]
  },
  {
   "cell_type": "code",
   "execution_count": 50,
   "metadata": {},
   "outputs": [
    {
     "name": "stdout",
     "output_type": "stream",
     "text": [
      "+-----------------+-----------+---------------------------+-------------+------------------+----------------+----------------+-----------+-----------------------+--------+---------------+-------------------+---------+\n",
      "|              vin|consumer_id|vehicle_ownership_cycle_num|vehicle_model|vehicle_model_year|acquisition_date|acquisition_year|vehicle_age|fmcc_lease_purchase_ind|platform|lifestage_value|contribution_margin|Latest_CM|\n",
      "+-----------------+-----------+---------------------------+-------------+------------------+----------------+----------------+-----------+-----------------------+--------+---------------+-------------------+---------+\n",
      "|1FTPW14554KD61923|    1601895|                          1|        F-150|              2004|      2004-08-16|            2004|         18|                      0|   TRUCK| Late Ownership|           12808.96| 34080.00|\n",
      "|1FT7W2B67KEC85800|  108746650|                          1|        F-250|              2019|      2019-03-18|            2019|          3|                      0|   TRUCK|Early Ownership|           25545.89| 18843.98|\n",
      "|1FT8W3BT2NEC54426|  108746650|                          1|        F-350|              2022|      2021-10-15|            2021|          1|                      0|   TRUCK|Early Ownership|           29757.01| 18843.98|\n",
      "|1FTFW1ET1EFB41715|  108746650|                          1|        F-150|              2014|      2014-05-07|            2014|          8|                      0|   TRUCK|Early Ownership|           15844.59| 18843.98|\n",
      "|1FTFW1E47KFA56852|  110135908|                          1|        F-150|              2019|      2018-12-24|            2018|          4|                      0|   TRUCK|Early Ownership|           25319.65| 10588.73|\n",
      "+-----------------+-----------+---------------------------+-------------+------------------+----------------+----------------+-----------+-----------------------+--------+---------------+-------------------+---------+\n",
      "only showing top 5 rows\n",
      "\n"
     ]
    }
   ],
   "source": [
    "mpartha9_NA_Match_query.show(5)"
   ]
  },
  {
   "cell_type": "code",
   "execution_count": null,
   "metadata": {},
   "outputs": [],
   "source": []
  },
  {
   "cell_type": "markdown",
   "metadata": {},
   "source": [
    "### Vehicle Age"
   ]
  },
  {
   "cell_type": "code",
   "execution_count": 51,
   "metadata": {},
   "outputs": [],
   "source": [
    "Query_vehicle_age = \"\"\"select consumer_id, avg(vehicle_age) as avg_vehicle_age\n",
    "from mpartha9_NA_Match_query\n",
    "group by consumer_id\n",
    "order by consumer_id\n",
    "\"\"\"\n",
    "mpartha9_NA_veh_age = spark.sql(Query_vehicle_age)\n",
    "mpartha9_NA_veh_age.createOrReplaceTempView(\"mpartha9_NA_veh_age\")"
   ]
  },
  {
   "cell_type": "code",
   "execution_count": 52,
   "metadata": {},
   "outputs": [
    {
     "name": "stdout",
     "output_type": "stream",
     "text": [
      "549396 549396\n"
     ]
    }
   ],
   "source": [
    "print(mpartha9_NA_veh_age.count(), mpartha9_NA_veh_age.select(\"consumer_id\").distinct().count())"
   ]
  },
  {
   "cell_type": "markdown",
   "metadata": {},
   "source": [
    "### fmcc_lease_purchase_ind"
   ]
  },
  {
   "cell_type": "code",
   "execution_count": 53,
   "metadata": {},
   "outputs": [],
   "source": [
    "Query_fmcc_lease_purchase_ind = \"\"\"select consumer_id, sum(fmcc_lease_purchase_ind) as no_of_lease_purchases\n",
    "from mpartha9_NA_Match_query\n",
    "group by consumer_id\n",
    "order by consumer_id\n",
    "\"\"\"\n",
    "mpartha9_NA_fmcc_lease_purchase_ind = spark.sql(Query_fmcc_lease_purchase_ind)\n",
    "mpartha9_NA_fmcc_lease_purchase_ind.createOrReplaceTempView(\"mpartha9_NA_fmcc_lease_purchase_ind\")"
   ]
  },
  {
   "cell_type": "code",
   "execution_count": 54,
   "metadata": {},
   "outputs": [
    {
     "name": "stdout",
     "output_type": "stream",
     "text": [
      "549396 549396\n"
     ]
    }
   ],
   "source": [
    "print(mpartha9_NA_fmcc_lease_purchase_ind.count(), mpartha9_NA_fmcc_lease_purchase_ind.select(\"consumer_id\").distinct().count())\n"
   ]
  },
  {
   "cell_type": "markdown",
   "metadata": {},
   "source": [
    "### Frequency"
   ]
  },
  {
   "cell_type": "code",
   "execution_count": 55,
   "metadata": {},
   "outputs": [],
   "source": [
    "Query_freq = \"\"\"select consumer_id, Count(acquisition_date) as freq_excluding_latest\n",
    "from mpartha9_NA_Match_query\n",
    "group by consumer_id\n",
    "order by consumer_id\n",
    "\"\"\"\n",
    "mpartha9_freq = spark.sql(Query_freq)\n",
    "mpartha9_freq.createOrReplaceTempView(\"mpartha9_freq\")"
   ]
  },
  {
   "cell_type": "code",
   "execution_count": 56,
   "metadata": {},
   "outputs": [
    {
     "name": "stdout",
     "output_type": "stream",
     "text": [
      "549396 549396\n"
     ]
    }
   ],
   "source": [
    "print(mpartha9_freq.count(), mpartha9_freq.select(\"consumer_id\").distinct().count())"
   ]
  },
  {
   "cell_type": "markdown",
   "metadata": {},
   "source": [
    "### avg_contribution_margin_new"
   ]
  },
  {
   "cell_type": "code",
   "execution_count": 57,
   "metadata": {},
   "outputs": [],
   "source": [
    "Query_monetary_CM = \"\"\"select consumer_id, avg(contribution_margin) as avg_contribution_margin_new\n",
    "from mpartha9_NA_Match_query\n",
    "group by consumer_id\n",
    "order by consumer_id\n",
    "\"\"\"\n",
    "mpartha9_monetary_CM = spark.sql(Query_monetary_CM)\n",
    "mpartha9_monetary_CM.createOrReplaceTempView(\"mpartha9_monetary_CM\")"
   ]
  },
  {
   "cell_type": "code",
   "execution_count": 58,
   "metadata": {
    "scrolled": true
   },
   "outputs": [
    {
     "name": "stdout",
     "output_type": "stream",
     "text": [
      "549396 549396\n"
     ]
    }
   ],
   "source": [
    "print(mpartha9_monetary_CM.count(), mpartha9_monetary_CM.select(\"consumer_id\").distinct().count())"
   ]
  },
  {
   "cell_type": "markdown",
   "metadata": {},
   "source": [
    "### AVERAGE TIME TO PURCHASE (FORMERLY  RECENCY)"
   ]
  },
  {
   "cell_type": "code",
   "execution_count": 59,
   "metadata": {},
   "outputs": [],
   "source": [
    "Query_Recency = \"\"\"Select consumer_id, acquisition_date\n",
    ",-((DateDiff(acquisition_date, Lag(acquisition_date) Over (Partition by consumer_id Order By acquisition_date desc)))/365) as moving_diff\n",
    "FROM mpartha9_NA_Match_query\n",
    "ORDER BY consumer_id\n",
    "\"\"\"\n",
    "mpartha9_Recency = spark.sql(Query_Recency)\n",
    "mpartha9_Recency.createOrReplaceTempView(\"mpartha9_Recency\")"
   ]
  },
  {
   "cell_type": "code",
   "execution_count": 60,
   "metadata": {},
   "outputs": [],
   "source": [
    "Query_Recency_1 = \"\"\"select consumer_id, avg(moving_diff) as AVERAGE_TIME_TO_PURCHASE\n",
    "from mpartha9_Recency\n",
    "group by consumer_id\n",
    "\"\"\"\n",
    "mpartha9_Recency_1 = spark.sql(Query_Recency_1)\n",
    "mpartha9_Recency_1.createOrReplaceTempView(\"mpartha9_Recency_1\")"
   ]
  },
  {
   "cell_type": "code",
   "execution_count": 61,
   "metadata": {},
   "outputs": [],
   "source": [
    "Query_Recency_2 = \"\"\"select consumer_id,\n",
    "case when AVERAGE_TIME_TO_PURCHASE is NULL then 'Purchased_only_once'\n",
    "\twhen (AVERAGE_TIME_TO_PURCHASE >=0 and AVERAGE_TIME_TO_PURCHASE<=3) then 'Repurchased_WITHIN_3_yrs'\n",
    "\twhen (AVERAGE_TIME_TO_PURCHASE >3 and AVERAGE_TIME_TO_PURCHASE<=5) then 'Repurchased_BTWN_3_5_yrs'\n",
    "\twhen AVERAGE_TIME_TO_PURCHASE >5 then 'Repurchased_AFTER_5_yrs'\n",
    "\tend as AVERAGE_TIME_TO_PURCHASE\n",
    "from mpartha9_Recency_1\n",
    "\"\"\"\n",
    "mpartha9_Recency_2 = spark.sql(Query_Recency_2)\n",
    "mpartha9_Recency_2.createOrReplaceTempView(\"mpartha9_Recency_2\")"
   ]
  },
  {
   "cell_type": "code",
   "execution_count": 62,
   "metadata": {},
   "outputs": [
    {
     "name": "stdout",
     "output_type": "stream",
     "text": [
      "549396 549396\n"
     ]
    }
   ],
   "source": [
    "print(mpartha9_Recency_2.count(), mpartha9_Recency_2.select(\"consumer_id\").distinct().count())"
   ]
  },
  {
   "cell_type": "code",
   "execution_count": 63,
   "metadata": {},
   "outputs": [
    {
     "name": "stdout",
     "output_type": "stream",
     "text": [
      "+------------------------+------+\n",
      "|AVERAGE_TIME_TO_PURCHASE| count|\n",
      "+------------------------+------+\n",
      "|    Repurchased_WITHI...|193077|\n",
      "|     Purchased_only_once|210257|\n",
      "|    Repurchased_AFTER...| 65844|\n",
      "|    Repurchased_BTWN_...| 80218|\n",
      "+------------------------+------+\n",
      "\n"
     ]
    }
   ],
   "source": [
    "## Value Counts\n",
    "mpartha9_Recency_2.groupBy('AVERAGE_TIME_TO_PURCHASE').count().show()"
   ]
  },
  {
   "cell_type": "markdown",
   "metadata": {},
   "source": [
    "### COMBINED TABLE for all feature variables"
   ]
  },
  {
   "cell_type": "code",
   "execution_count": 64,
   "metadata": {},
   "outputs": [],
   "source": [
    "Query_combined_table = \"\"\"select a.consumer_id, a.freq_excluding_latest, \n",
    "b.avg_contribution_margin_new, \n",
    "c.AVERAGE_TIME_TO_PURCHASE,\n",
    "e.avg_vehicle_age, \n",
    "g.no_of_lease_purchases,\n",
    "h.Latest_CM\n",
    "from mpartha9_freq a\n",
    "inner join mpartha9_monetary_CM b\n",
    "on a.consumer_id=b.consumer_id\n",
    "inner join mpartha9_Recency_2 c\n",
    "on a.consumer_id=c.consumer_id\n",
    "inner join mpartha9_NA_veh_age e\n",
    "on a.consumer_id=e.consumer_id\n",
    "inner join mpartha9_NA_fmcc_lease_purchase_ind g\n",
    "on a.consumer_id=g.consumer_id\n",
    "inner join mpartha9_NA_only_latest_transaction h\n",
    "on a.consumer_id=h.consumer_id\n",
    "order by consumer_id\n",
    "\"\"\"\n",
    "mpartha9_NA_combined_table = spark.sql(Query_combined_table)\n",
    "mpartha9_NA_combined_table.createOrReplaceTempView(\"mpartha9_NA_combined_table\")"
   ]
  },
  {
   "cell_type": "code",
   "execution_count": 65,
   "metadata": {},
   "outputs": [
    {
     "name": "stdout",
     "output_type": "stream",
     "text": [
      "549396 549396\n"
     ]
    }
   ],
   "source": [
    "print(mpartha9_NA_combined_table.count(), mpartha9_NA_combined_table.select(\"consumer_id\").distinct().count())"
   ]
  },
  {
   "cell_type": "code",
   "execution_count": 66,
   "metadata": {},
   "outputs": [
    {
     "name": "stdout",
     "output_type": "stream",
     "text": [
      "+-----------+---------------------+---------------------------+------------------------+------------------+---------------------+---------+\n",
      "|consumer_id|freq_excluding_latest|avg_contribution_margin_new|AVERAGE_TIME_TO_PURCHASE|   avg_vehicle_age|no_of_lease_purchases|Latest_CM|\n",
      "+-----------+---------------------+---------------------------+------------------------+------------------+---------------------+---------+\n",
      "|    1400494|                    2|               13661.405000|    Repurchased_AFTER...|              14.5|                    0| 14243.97|\n",
      "|    1601895|                    1|               12808.960000|     Purchased_only_once|              18.0|                    0| 34080.00|\n",
      "|    9248410|                    3|                9029.806667|    Repurchased_WITHI...|11.666666666666666|                    0| 12918.75|\n",
      "|   10290303|                    1|               12511.120000|     Purchased_only_once|              19.0|                    0| 18497.77|\n",
      "|   10796203|                    1|               10703.880000|     Purchased_only_once|              20.0|                    0| 12758.21|\n",
      "+-----------+---------------------+---------------------------+------------------------+------------------+---------------------+---------+\n",
      "only showing top 5 rows\n",
      "\n"
     ]
    }
   ],
   "source": [
    "mpartha9_NA_combined_table.show(5)"
   ]
  },
  {
   "cell_type": "markdown",
   "metadata": {},
   "source": [
    "### Final X Variables  final formattings"
   ]
  },
  {
   "cell_type": "code",
   "execution_count": 67,
   "metadata": {},
   "outputs": [],
   "source": [
    "Query_RFM_new_non_NaN = \"\"\"select consumer_id, \n",
    "case when freq_excluding_latest=1 then 'One'\n",
    "\twhen freq_excluding_latest=2 then 'Two'\n",
    "\twhen freq_excluding_latest=3 then 'Three'\n",
    "\telse 'More_than_Three' end as Freq_purchase,\n",
    "avg_contribution_margin_new as avg_imputed_contribution_margin,\n",
    "AVERAGE_TIME_TO_PURCHASE,\n",
    "avg_vehicle_age,\n",
    "case when no_of_lease_purchases=0 then 'Zero' else 'One' end as lease_purchase_flag,\n",
    "Latest_CM\n",
    "from mpartha9_NA_combined_table\n",
    "\"\"\"\n",
    "mpartha9_NA_RFM_new_non_NaN = spark.sql(Query_RFM_new_non_NaN)\n",
    "mpartha9_NA_RFM_new_non_NaN.createOrReplaceTempView(\"mpartha9_NA_RFM_new_non_NaN\")"
   ]
  },
  {
   "cell_type": "code",
   "execution_count": 68,
   "metadata": {},
   "outputs": [
    {
     "name": "stdout",
     "output_type": "stream",
     "text": [
      "549396 549396\n"
     ]
    }
   ],
   "source": [
    "print(mpartha9_NA_RFM_new_non_NaN.count(), mpartha9_NA_RFM_new_non_NaN.select(\"consumer_id\").distinct().count())"
   ]
  },
  {
   "cell_type": "code",
   "execution_count": 69,
   "metadata": {},
   "outputs": [
    {
     "name": "stdout",
     "output_type": "stream",
     "text": [
      "+-----------+-------------+-------------------------------+------------------------+------------------+-------------------+---------+\n",
      "|consumer_id|Freq_purchase|avg_imputed_contribution_margin|AVERAGE_TIME_TO_PURCHASE|   avg_vehicle_age|lease_purchase_flag|Latest_CM|\n",
      "+-----------+-------------+-------------------------------+------------------------+------------------+-------------------+---------+\n",
      "|    1400494|          Two|                   13661.265000|    Repurchased_AFTER...|              14.5|               Zero| 14243.97|\n",
      "|    1601895|          One|                   12808.960000|     Purchased_only_once|              18.0|               Zero| 34080.00|\n",
      "|    9248410|        Three|                    9030.296667|    Repurchased_WITHI...|11.666666666666666|               Zero| 12918.75|\n",
      "|   10290303|          One|                   12511.120000|     Purchased_only_once|              19.0|               Zero| 18497.77|\n",
      "|   10796203|          One|                   10705.230000|     Purchased_only_once|              20.0|               Zero| 12758.21|\n",
      "+-----------+-------------+-------------------------------+------------------------+------------------+-------------------+---------+\n",
      "only showing top 5 rows\n",
      "\n"
     ]
    }
   ],
   "source": [
    "mpartha9_NA_RFM_new_non_NaN.show(5)"
   ]
  },
  {
   "cell_type": "code",
   "execution_count": 70,
   "metadata": {
    "scrolled": true
   },
   "outputs": [
    {
     "name": "stdout",
     "output_type": "stream",
     "text": [
      "+-------+--------------------+---------------+-------------------------------+------------------------+------------------+-------------------+-----------------+\n",
      "|summary|         consumer_id|  Freq_purchase|avg_imputed_contribution_margin|AVERAGE_TIME_TO_PURCHASE|   avg_vehicle_age|lease_purchase_flag|        Latest_CM|\n",
      "+-------+--------------------+---------------+-------------------------------+------------------------+------------------+-------------------+-----------------+\n",
      "|  count|              549396|         549396|                         549396|                  549396|            549396|             549396|           549396|\n",
      "|   mean|    19536523888.3807|           null|               11051.4145604841|                    null| 8.018026746376963|               null|     16406.206497|\n",
      "| stddev|1.348910050681828...|           null|              6633.128546825475|                    null| 4.670090680082621|               null|9262.167350226375|\n",
      "|    min|             1400494|More_than_Three|                  -33297.000000|     Purchased_only_once|               0.0|                One|        -38078.68|\n",
      "|    25%|         11756342752|           null|                        6230.73|                    null|               4.5|               null|          9314.31|\n",
      "|    50%|         17264073153|           null|                      10411.476|                    null|               7.5|               null|         15323.58|\n",
      "|    75%|         22566000053|           null|                      14926.745|                    null|10.833333333333334|               null|         22581.33|\n",
      "|    max|         99999105907|            Two|                  144895.390000|    Repurchased_WITHI...|              37.0|               Zero|        173039.48|\n",
      "+-------+--------------------+---------------+-------------------------------+------------------------+------------------+-------------------+-----------------+\n",
      "\n"
     ]
    }
   ],
   "source": [
    "mpartha9_NA_RFM_new_non_NaN.summary().show()"
   ]
  },
  {
   "cell_type": "code",
   "execution_count": 72,
   "metadata": {},
   "outputs": [],
   "source": [
    "mpartha9_NA_RFM_new_non_NaN.toPandas().to_csv('/s/mpartha9/RETAIL_NEW_developed_model_performance_2022_beyond.csv', index=False)"
   ]
  },
  {
   "cell_type": "code",
   "execution_count": null,
   "metadata": {},
   "outputs": [],
   "source": []
  },
  {
   "cell_type": "code",
   "execution_count": null,
   "metadata": {},
   "outputs": [],
   "source": []
  },
  {
   "cell_type": "code",
   "execution_count": null,
   "metadata": {},
   "outputs": [],
   "source": []
  },
  {
   "cell_type": "code",
   "execution_count": null,
   "metadata": {},
   "outputs": [],
   "source": []
  },
  {
   "cell_type": "code",
   "execution_count": null,
   "metadata": {},
   "outputs": [],
   "source": []
  },
  {
   "cell_type": "code",
   "execution_count": null,
   "metadata": {},
   "outputs": [],
   "source": []
  },
  {
   "cell_type": "code",
   "execution_count": null,
   "metadata": {},
   "outputs": [],
   "source": []
  },
  {
   "cell_type": "code",
   "execution_count": null,
   "metadata": {},
   "outputs": [],
   "source": []
  },
  {
   "cell_type": "code",
   "execution_count": null,
   "metadata": {},
   "outputs": [],
   "source": []
  },
  {
   "cell_type": "code",
   "execution_count": null,
   "metadata": {},
   "outputs": [],
   "source": []
  },
  {
   "cell_type": "code",
   "execution_count": null,
   "metadata": {},
   "outputs": [],
   "source": []
  },
  {
   "cell_type": "code",
   "execution_count": null,
   "metadata": {},
   "outputs": [],
   "source": [
    "#mpartha9_NA_RFM_new_non_NaN.write.format(\"orc\").mode(\"overwrite\").option(\"path\", \"/project/dz/collab/ICI_ANALYTICS/mpartha9_NA_RFM_new_non_NaN\") \\\n",
    "#.saveAsTable('ici_analytics.mpartha9_Scoring_data_full_2003_21')"
   ]
  },
  {
   "cell_type": "code",
   "execution_count": 72,
   "metadata": {},
   "outputs": [],
   "source": [
    "#mpartha9_NA_RFM_new_non_NaN.toPandas().to_csv('/s/mpartha9/SCORING_2003_21_full_data_15Feb.csv', index=False)"
   ]
  },
  {
   "cell_type": "code",
   "execution_count": 71,
   "metadata": {},
   "outputs": [],
   "source": [
    "# Create a copy of original dataframe\n",
    "original_df = mpartha9_NA_RFM_new_non_NaN"
   ]
  },
  {
   "cell_type": "code",
   "execution_count": 93,
   "metadata": {},
   "outputs": [],
   "source": [
    "n_splits = 3"
   ]
  },
  {
   "cell_type": "code",
   "execution_count": 94,
   "metadata": {},
   "outputs": [],
   "source": [
    "# Calculate count of each dataframe rows in the two df\n",
    "each_len = original_df.count() // n_splits"
   ]
  },
  {
   "cell_type": "code",
   "execution_count": 95,
   "metadata": {},
   "outputs": [],
   "source": [
    "# Splitting DataFrame\n",
    "limited_df = original_df.limit(each_len).cache()"
   ]
  },
  {
   "cell_type": "code",
   "execution_count": 96,
   "metadata": {},
   "outputs": [
    {
     "name": "stdout",
     "output_type": "stream",
     "text": [
      "11377208 11377208\n"
     ]
    }
   ],
   "source": [
    "print(limited_df.count(), limited_df.select(\"consumer_id\").distinct().count())"
   ]
  },
  {
   "cell_type": "code",
   "execution_count": 97,
   "metadata": {},
   "outputs": [],
   "source": [
    "# Truncate the `original_df` to remove the contents fetched for `limited_df`\n",
    "rest_df = original_df.join(limited_df, ['consumer_id'], 'left_anti')"
   ]
  },
  {
   "cell_type": "code",
   "execution_count": 99,
   "metadata": {
    "scrolled": true
   },
   "outputs": [
    {
     "name": "stdout",
     "output_type": "stream",
     "text": [
      "22855805 23042462\n"
     ]
    }
   ],
   "source": [
    "print(rest_df.count(), rest_df.select(\"consumer_id\").distinct().count())"
   ]
  },
  {
   "cell_type": "code",
   "execution_count": 100,
   "metadata": {},
   "outputs": [],
   "source": [
    "new_len = rest_df.count() // 2"
   ]
  },
  {
   "cell_type": "code",
   "execution_count": 101,
   "metadata": {},
   "outputs": [],
   "source": [
    "limited_df_1=rest_df.limit(new_len).cache()"
   ]
  },
  {
   "cell_type": "code",
   "execution_count": 102,
   "metadata": {},
   "outputs": [
    {
     "name": "stdout",
     "output_type": "stream",
     "text": [
      "11464463 11464463\n"
     ]
    }
   ],
   "source": [
    "print(limited_df_1.count(), limited_df_1.select(\"consumer_id\").distinct().count())"
   ]
  },
  {
   "cell_type": "code",
   "execution_count": 103,
   "metadata": {},
   "outputs": [],
   "source": [
    "# Truncate the `rest_df` to remove the contents fetched for `limited_df_1`\n",
    "rest_df_1 = rest_df.join(limited_df_1, ['consumer_id'], 'left_anti')"
   ]
  },
  {
   "cell_type": "code",
   "execution_count": 104,
   "metadata": {},
   "outputs": [
    {
     "name": "stdout",
     "output_type": "stream",
     "text": [
      "11637411 11539275\n"
     ]
    }
   ],
   "source": [
    "print(rest_df_1.count(), rest_df_1.select(\"consumer_id\").distinct().count())"
   ]
  },
  {
   "cell_type": "code",
   "execution_count": 105,
   "metadata": {
    "scrolled": true
   },
   "outputs": [
    {
     "name": "stdout",
     "output_type": "stream",
     "text": [
      "+-----------+-------------+-------------------------------+------------------------+---------------+-------------------+\n",
      "|consumer_id|Freq_purchase|avg_imputed_contribution_margin|AVERAGE_TIME_TO_PURCHASE|avg_vehicle_age|lease_purchase_flag|\n",
      "+-----------+-------------+-------------------------------+------------------------+---------------+-------------------+\n",
      "|  101058614|            2|                    7267.505000|    Repurchased_WITHI...|           12.0|                  0|\n",
      "|  117704750|  More_than_3|                   14600.984000|    Repurchased_WITHI...|           11.2|                  0|\n",
      "|  740219007|            1|                    5908.540000|     Purchased_only_once|           18.0|                  0|\n",
      "| 1079734006|            1|                    5556.710000|     Purchased_only_once|           16.0|                  0|\n",
      "| 1206229604|            1|                    5129.040000|     Purchased_only_once|           21.0|                  0|\n",
      "+-----------+-------------+-------------------------------+------------------------+---------------+-------------------+\n",
      "only showing top 5 rows\n",
      "\n"
     ]
    }
   ],
   "source": [
    "limited_df.show(5)"
   ]
  },
  {
   "cell_type": "code",
   "execution_count": 106,
   "metadata": {},
   "outputs": [
    {
     "name": "stdout",
     "output_type": "stream",
     "text": [
      "+-----------+-------------+-------------------------------+------------------------+---------------+-------------------+\n",
      "|consumer_id|Freq_purchase|avg_imputed_contribution_margin|AVERAGE_TIME_TO_PURCHASE|avg_vehicle_age|lease_purchase_flag|\n",
      "+-----------+-------------+-------------------------------+------------------------+---------------+-------------------+\n",
      "|    5502910|            1|                   10016.350000|     Purchased_only_once|           29.0|                  0|\n",
      "|    7304810|            1|                    3793.010000|     Purchased_only_once|           19.0|                  0|\n",
      "|    9203194|            1|                    3318.840000|     Purchased_only_once|           16.0|                  0|\n",
      "|   11419109|            1|                    3318.840000|     Purchased_only_once|           17.0|                  0|\n",
      "|   14700507|            1|                    2262.570000|     Purchased_only_once|           16.0|                  0|\n",
      "+-----------+-------------+-------------------------------+------------------------+---------------+-------------------+\n",
      "only showing top 5 rows\n",
      "\n"
     ]
    }
   ],
   "source": [
    "limited_df_1.show(5)"
   ]
  },
  {
   "cell_type": "code",
   "execution_count": null,
   "metadata": {},
   "outputs": [],
   "source": [
    "rest_df_1.show(5)"
   ]
  },
  {
   "cell_type": "code",
   "execution_count": null,
   "metadata": {},
   "outputs": [],
   "source": []
  },
  {
   "cell_type": "code",
   "execution_count": null,
   "metadata": {},
   "outputs": [],
   "source": [
    "limited_df.toPandas().to_csv('/s/mpartha9/SCORING_2003_21_full_data_15Feb_Part1.csv', index=False)"
   ]
  },
  {
   "cell_type": "code",
   "execution_count": null,
   "metadata": {},
   "outputs": [],
   "source": [
    "limited_df_1.toPandas().to_csv('/s/mpartha9/SCORING_2003_21_full_data_15Feb_Part2.csv', index=False)"
   ]
  },
  {
   "cell_type": "code",
   "execution_count": null,
   "metadata": {},
   "outputs": [],
   "source": [
    "rest_df_1.toPandas().to_csv('/s/mpartha9/SCORING_2003_21_full_data_15Feb_Part3.csv', index=False)"
   ]
  },
  {
   "cell_type": "code",
   "execution_count": null,
   "metadata": {},
   "outputs": [],
   "source": []
  }
 ],
 "metadata": {
  "kernelspec": {
   "display_name": "py368nb_k",
   "language": "python",
   "name": "py368nb_k"
  },
  "language_info": {
   "codemirror_mode": {
    "name": "ipython",
    "version": 3
   },
   "file_extension": ".py",
   "mimetype": "text/x-python",
   "name": "python",
   "nbconvert_exporter": "python",
   "pygments_lexer": "ipython3",
   "version": "3.6.8"
  }
 },
 "nbformat": 4,
 "nbformat_minor": 2
}
